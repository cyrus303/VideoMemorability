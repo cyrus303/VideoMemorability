{
  "nbformat": 4,
  "nbformat_minor": 0,
  "metadata": {
    "colab": {
      "name": "CA684_Assignment.ipynb",
      "provenance": [],
      "collapsed_sections": [
        "BxnZ7zUE_I37",
        "BZvoy7Lb_Miy",
        "3IJx21Pp_cIE",
        "YeR8VweX_p5X",
        "ZKIRFKq5_289",
        "nq3OihWjAPZL",
        "dfZCVlIVA5gc",
        "dtO3Ewm0KyOl",
        "5j7dsEb_mAMr",
        "zD94YiqUqsQh",
        "bAbjZ5HZuzCy",
        "g2UmD47AzIhC",
        "t1P6_U6qzkHT",
        "nlL-QhdTOrhj",
        "GTByZEJz4W2h",
        "Vaf5sYrfQ7SL",
        "QWW3mw-N7pu6",
        "KcvGWPEz9OMU",
        "oTUb_jkEs6PT",
        "l-kNMPS1_0Da",
        "SuH0Ki10tqdq",
        "hMcq-QANBj_2"
      ],
      "machine_shape": "hm"
    },
    "kernelspec": {
      "name": "python3",
      "display_name": "Python 3"
    },
    "accelerator": "GPU"
  },
  "cells": [
    {
      "cell_type": "markdown",
      "metadata": {
        "id": "ySsZRDpWM9c0",
        "colab_type": "text"
      },
      "source": [
        "<h1><center>Machine Learning Assignment - Video Memorability Prediction</center></h1>"
      ]
    },
    {
      "cell_type": "markdown",
      "metadata": {
        "id": "rKqjCOUzt7T5",
        "colab_type": "text"
      },
      "source": [
        "<h1><center>\n",
        "CA684 Machine Learning<br>\n",
        "Masters in Computing (Data Analytics)<br>\n",
        "19211191 <br>\n",
        "Sachin Mahesh\n",
        "</center></h1>"
      ]
    },
    {
      "cell_type": "markdown",
      "metadata": {
        "id": "BxnZ7zUE_I37",
        "colab_type": "text"
      },
      "source": [
        "## Google Colab Setup"
      ]
    },
    {
      "cell_type": "code",
      "metadata": {
        "id": "VSf-MKob36_p",
        "colab_type": "code",
        "outputId": "a633bbf7-4f1d-4c85-d6c7-b23beafe036e",
        "colab": {
          "base_uri": "https://localhost:8080/",
          "height": 129
        }
      },
      "source": [
        "from google.colab import drive\n",
        "import os\n",
        "drive.mount('/content/drive/')\n",
        "os.chdir('/content/drive/My Drive/CA684_Assignment/')"
      ],
      "execution_count": 0,
      "outputs": [
        {
          "output_type": "stream",
          "text": [
            "Go to this URL in a browser: https://accounts.google.com/o/oauth2/auth?client_id=947318989803-6bn6qk8qdgf4n4g3pfee6491hc0brc4i.apps.googleusercontent.com&redirect_uri=urn%3aietf%3awg%3aoauth%3a2.0%3aoob&response_type=code&scope=email%20https%3a%2f%2fwww.googleapis.com%2fauth%2fdocs.test%20https%3a%2f%2fwww.googleapis.com%2fauth%2fdrive%20https%3a%2f%2fwww.googleapis.com%2fauth%2fdrive.photos.readonly%20https%3a%2f%2fwww.googleapis.com%2fauth%2fpeopleapi.readonly\n",
            "\n",
            "Enter your authorization code:\n",
            "··········\n",
            "Mounted at /content/drive/\n"
          ],
          "name": "stdout"
        }
      ]
    },
    {
      "cell_type": "markdown",
      "metadata": {
        "id": "BZvoy7Lb_Miy",
        "colab_type": "text"
      },
      "source": [
        "## Import and Installing packages"
      ]
    },
    {
      "cell_type": "markdown",
      "metadata": {
        "id": "XmkA_Bi4WR4m",
        "colab_type": "text"
      },
      "source": [
        "Few main pakages used in this project are as follows:\n",
        "\n",
        "> * **pyprind:** The PyPrind (Python Progress Indicator) module provides a progress bar and a percentage indicator object that let you track the progress of a loop structure or other iterative computation.\n",
        "> * **Keras:** is an open-source neural-network library written in Python. It is capable of running on top of TensorFlow. Designed to enable fast experimentation with deep neural networks.\n",
        "> * **TensorFlow:** is a free and open-source software library for dataflow and differentiable programming across a range of tasks. It is a symbolic math library, and is also used for machine learning applications such as neural networks.\n",
        "> * **Scikit-learn:** is a machine learning library for the Python. It features various classification, regression and clustering algorithms including support vector machines, random forests.\n",
        "\n"
      ]
    },
    {
      "cell_type": "code",
      "metadata": {
        "id": "4pDL8mpgu7KP",
        "colab_type": "code",
        "outputId": "1675f48e-370e-43c4-cb7e-38318b139783",
        "colab": {
          "base_uri": "https://localhost:8080/",
          "height": 1000
        }
      },
      "source": [
        "!pip install pyprind\n",
        "!pip install -U keras\n",
        "!pip install keras\n",
        "!pip install tensorflow"
      ],
      "execution_count": 0,
      "outputs": [
        {
          "output_type": "stream",
          "text": [
            "Collecting pyprind\n",
            "  Downloading https://files.pythonhosted.org/packages/1e/30/e76fb0c45da8aef49ea8d2a90d4e7a6877b45894c25f12fb961f009a891e/PyPrind-2.11.2-py3-none-any.whl\n",
            "Installing collected packages: pyprind\n",
            "Successfully installed pyprind-2.11.2\n",
            "Requirement already up-to-date: keras in /usr/local/lib/python3.6/dist-packages (2.3.1)\n",
            "Requirement already satisfied, skipping upgrade: six>=1.9.0 in /usr/local/lib/python3.6/dist-packages (from keras) (1.12.0)\n",
            "Requirement already satisfied, skipping upgrade: h5py in /usr/local/lib/python3.6/dist-packages (from keras) (2.10.0)\n",
            "Requirement already satisfied, skipping upgrade: keras-preprocessing>=1.0.5 in /usr/local/lib/python3.6/dist-packages (from keras) (1.1.0)\n",
            "Requirement already satisfied, skipping upgrade: numpy>=1.9.1 in /usr/local/lib/python3.6/dist-packages (from keras) (1.18.2)\n",
            "Requirement already satisfied, skipping upgrade: pyyaml in /usr/local/lib/python3.6/dist-packages (from keras) (3.13)\n",
            "Requirement already satisfied, skipping upgrade: scipy>=0.14 in /usr/local/lib/python3.6/dist-packages (from keras) (1.4.1)\n",
            "Requirement already satisfied, skipping upgrade: keras-applications>=1.0.6 in /usr/local/lib/python3.6/dist-packages (from keras) (1.0.8)\n",
            "Requirement already satisfied: keras in /usr/local/lib/python3.6/dist-packages (2.3.1)\n",
            "Requirement already satisfied: pyyaml in /usr/local/lib/python3.6/dist-packages (from keras) (3.13)\n",
            "Requirement already satisfied: six>=1.9.0 in /usr/local/lib/python3.6/dist-packages (from keras) (1.12.0)\n",
            "Requirement already satisfied: keras-preprocessing>=1.0.5 in /usr/local/lib/python3.6/dist-packages (from keras) (1.1.0)\n",
            "Requirement already satisfied: keras-applications>=1.0.6 in /usr/local/lib/python3.6/dist-packages (from keras) (1.0.8)\n",
            "Requirement already satisfied: scipy>=0.14 in /usr/local/lib/python3.6/dist-packages (from keras) (1.4.1)\n",
            "Requirement already satisfied: numpy>=1.9.1 in /usr/local/lib/python3.6/dist-packages (from keras) (1.18.2)\n",
            "Requirement already satisfied: h5py in /usr/local/lib/python3.6/dist-packages (from keras) (2.10.0)\n",
            "Requirement already satisfied: tensorflow in /usr/local/lib/python3.6/dist-packages (2.2.0rc2)\n",
            "Requirement already satisfied: numpy<2.0,>=1.16.0 in /usr/local/lib/python3.6/dist-packages (from tensorflow) (1.18.2)\n",
            "Requirement already satisfied: grpcio>=1.8.6 in /usr/local/lib/python3.6/dist-packages (from tensorflow) (1.28.1)\n",
            "Requirement already satisfied: absl-py>=0.7.0 in /usr/local/lib/python3.6/dist-packages (from tensorflow) (0.9.0)\n",
            "Requirement already satisfied: astunparse==1.6.3 in /usr/local/lib/python3.6/dist-packages (from tensorflow) (1.6.3)\n",
            "Requirement already satisfied: h5py<2.11.0,>=2.10.0 in /usr/local/lib/python3.6/dist-packages (from tensorflow) (2.10.0)\n",
            "Requirement already satisfied: gast==0.3.3 in /usr/local/lib/python3.6/dist-packages (from tensorflow) (0.3.3)\n",
            "Requirement already satisfied: keras-preprocessing>=1.1.0 in /usr/local/lib/python3.6/dist-packages (from tensorflow) (1.1.0)\n",
            "Requirement already satisfied: termcolor>=1.1.0 in /usr/local/lib/python3.6/dist-packages (from tensorflow) (1.1.0)\n",
            "Requirement already satisfied: wrapt>=1.11.1 in /usr/local/lib/python3.6/dist-packages (from tensorflow) (1.12.1)\n",
            "Requirement already satisfied: protobuf>=3.8.0 in /usr/local/lib/python3.6/dist-packages (from tensorflow) (3.10.0)\n",
            "Requirement already satisfied: opt-einsum>=2.3.2 in /usr/local/lib/python3.6/dist-packages (from tensorflow) (3.2.0)\n",
            "Requirement already satisfied: tensorflow-estimator<2.3.0,>=2.2.0rc0 in /usr/local/lib/python3.6/dist-packages (from tensorflow) (2.2.0rc0)\n",
            "Requirement already satisfied: tensorboard<2.3.0,>=2.2.0 in /usr/local/lib/python3.6/dist-packages (from tensorflow) (2.2.0)\n",
            "Requirement already satisfied: wheel>=0.26; python_version >= \"3\" in /usr/local/lib/python3.6/dist-packages (from tensorflow) (0.34.2)\n",
            "Requirement already satisfied: google-pasta>=0.1.8 in /usr/local/lib/python3.6/dist-packages (from tensorflow) (0.2.0)\n",
            "Requirement already satisfied: scipy==1.4.1; python_version >= \"3\" in /usr/local/lib/python3.6/dist-packages (from tensorflow) (1.4.1)\n",
            "Requirement already satisfied: six>=1.12.0 in /usr/local/lib/python3.6/dist-packages (from tensorflow) (1.12.0)\n",
            "Requirement already satisfied: setuptools in /usr/local/lib/python3.6/dist-packages (from protobuf>=3.8.0->tensorflow) (46.1.3)\n",
            "Requirement already satisfied: google-auth<2,>=1.6.3 in /usr/local/lib/python3.6/dist-packages (from tensorboard<2.3.0,>=2.2.0->tensorflow) (1.7.2)\n",
            "Requirement already satisfied: requests<3,>=2.21.0 in /usr/local/lib/python3.6/dist-packages (from tensorboard<2.3.0,>=2.2.0->tensorflow) (2.21.0)\n",
            "Requirement already satisfied: google-auth-oauthlib<0.5,>=0.4.1 in /usr/local/lib/python3.6/dist-packages (from tensorboard<2.3.0,>=2.2.0->tensorflow) (0.4.1)\n",
            "Requirement already satisfied: werkzeug>=0.11.15 in /usr/local/lib/python3.6/dist-packages (from tensorboard<2.3.0,>=2.2.0->tensorflow) (1.0.1)\n",
            "Requirement already satisfied: markdown>=2.6.8 in /usr/local/lib/python3.6/dist-packages (from tensorboard<2.3.0,>=2.2.0->tensorflow) (3.2.1)\n",
            "Requirement already satisfied: tensorboard-plugin-wit>=1.6.0 in /usr/local/lib/python3.6/dist-packages (from tensorboard<2.3.0,>=2.2.0->tensorflow) (1.6.0.post3)\n",
            "Requirement already satisfied: cachetools<3.2,>=2.0.0 in /usr/local/lib/python3.6/dist-packages (from google-auth<2,>=1.6.3->tensorboard<2.3.0,>=2.2.0->tensorflow) (3.1.1)\n",
            "Requirement already satisfied: pyasn1-modules>=0.2.1 in /usr/local/lib/python3.6/dist-packages (from google-auth<2,>=1.6.3->tensorboard<2.3.0,>=2.2.0->tensorflow) (0.2.8)\n",
            "Requirement already satisfied: rsa<4.1,>=3.1.4 in /usr/local/lib/python3.6/dist-packages (from google-auth<2,>=1.6.3->tensorboard<2.3.0,>=2.2.0->tensorflow) (4.0)\n",
            "Requirement already satisfied: idna<2.9,>=2.5 in /usr/local/lib/python3.6/dist-packages (from requests<3,>=2.21.0->tensorboard<2.3.0,>=2.2.0->tensorflow) (2.8)\n",
            "Requirement already satisfied: urllib3<1.25,>=1.21.1 in /usr/local/lib/python3.6/dist-packages (from requests<3,>=2.21.0->tensorboard<2.3.0,>=2.2.0->tensorflow) (1.24.3)\n",
            "Requirement already satisfied: certifi>=2017.4.17 in /usr/local/lib/python3.6/dist-packages (from requests<3,>=2.21.0->tensorboard<2.3.0,>=2.2.0->tensorflow) (2020.4.5.1)\n",
            "Requirement already satisfied: chardet<3.1.0,>=3.0.2 in /usr/local/lib/python3.6/dist-packages (from requests<3,>=2.21.0->tensorboard<2.3.0,>=2.2.0->tensorflow) (3.0.4)\n",
            "Requirement already satisfied: requests-oauthlib>=0.7.0 in /usr/local/lib/python3.6/dist-packages (from google-auth-oauthlib<0.5,>=0.4.1->tensorboard<2.3.0,>=2.2.0->tensorflow) (1.3.0)\n",
            "Requirement already satisfied: pyasn1<0.5.0,>=0.4.6 in /usr/local/lib/python3.6/dist-packages (from pyasn1-modules>=0.2.1->google-auth<2,>=1.6.3->tensorboard<2.3.0,>=2.2.0->tensorflow) (0.4.8)\n",
            "Requirement already satisfied: oauthlib>=3.0.0 in /usr/local/lib/python3.6/dist-packages (from requests-oauthlib>=0.7.0->google-auth-oauthlib<0.5,>=0.4.1->tensorboard<2.3.0,>=2.2.0->tensorflow) (3.1.0)\n"
          ],
          "name": "stdout"
        }
      ]
    },
    {
      "cell_type": "code",
      "metadata": {
        "id": "mmFzFFX5vG0-",
        "colab_type": "code",
        "colab": {}
      },
      "source": [
        "import pandas as pd\n",
        "import keras\n",
        "from keras import Sequential, layers, regularizers, optimizers\n",
        "import numpy as np\n",
        "from string import punctuation\n",
        "import pyprind\n",
        "from collections import Counter\n",
        "from keras.preprocessing.text import Tokenizer\n",
        "from sklearn.model_selection import train_test_split\n",
        "import matplotlib.pyplot as plt\n",
        "from scipy import stats\n",
        "from natsort import natsorted,ns"
      ],
      "execution_count": 0,
      "outputs": []
    },
    {
      "cell_type": "markdown",
      "metadata": {
        "id": "3IJx21Pp_cIE",
        "colab_type": "text"
      },
      "source": [
        "## Setting seed for reproducibility"
      ]
    },
    {
      "cell_type": "markdown",
      "metadata": {
        "id": "IMBK6SucZVBI",
        "colab_type": "text"
      },
      "source": [
        "By doing so our program generates the same set of random inputs to help us reproduce the results later"
      ]
    },
    {
      "cell_type": "code",
      "metadata": {
        "id": "YLxeWLzD_bw_",
        "colab_type": "code",
        "colab": {}
      },
      "source": [
        "import tensorflow as tf\n",
        "tf.random.set_seed(1234)"
      ],
      "execution_count": 0,
      "outputs": []
    },
    {
      "cell_type": "markdown",
      "metadata": {
        "id": "YeR8VweX_p5X",
        "colab_type": "text"
      },
      "source": [
        "## Spearman's Correlation Function To Calculate Memorability Score"
      ]
    },
    {
      "cell_type": "markdown",
      "metadata": {
        "id": "G2_qyjLKZnOv",
        "colab_type": "text"
      },
      "source": [
        ">  **Spearman's rank correlation coefficient :** is a nonparametric measure of rank correlation (statistical dependence between the rankings of two variables). It assesses how well the relationship between two variables can be described using a linear function. "
      ]
    },
    {
      "cell_type": "code",
      "metadata": {
        "id": "KWkpm_TB_jpl",
        "colab_type": "code",
        "colab": {}
      },
      "source": [
        "def Get_score(Y_pred,Y_true):\n",
        "    '''Calculate the Spearmann\"s correlation coefficient'''\n",
        "    Y_pred = np.squeeze(Y_pred)\n",
        "    Y_true = np.squeeze(Y_true)\n",
        "    if Y_pred.shape != Y_true.shape:\n",
        "        print('Input shapes don\\'t match!')\n",
        "    else:\n",
        "        if len(Y_pred.shape) == 1:\n",
        "            Res = pd.DataFrame({'Y_true':Y_true,'Y_pred':Y_pred})\n",
        "            score_mat = Res[['Y_true','Y_pred']].corr(method='spearman',min_periods=1)\n",
        "            print('The Spearman\\'s correlation coefficient is: %.3f' % score_mat.iloc[1][0])\n",
        "        else:\n",
        "            for ii in range(Y_pred.shape[1]):\n",
        "                Get_score(Y_pred[:,ii],Y_true[:,ii])"
      ],
      "execution_count": 0,
      "outputs": []
    },
    {
      "cell_type": "markdown",
      "metadata": {
        "id": "ZKIRFKq5_289",
        "colab_type": "text"
      },
      "source": [
        "## Features\n",
        "\n",
        "---\n",
        "We are going to load 3 features from the dataset.\n",
        "\n",
        "*   Convolution 3D (C3D) -- Generic features generated for video analysis.\n",
        "> C3D is obtained by training a deep 3D convolutional network on a large annotated video dataset. The dataset contains various concepts encompassing objects, actions, scenes and other frequently occurring categories in videos.\n",
        "\n",
        "*   Histogram of Motion Patterens (HMP) -- Histogram of motion patterns generated for each video\n",
        "> HMP is a static image template which helps in understanding the motion location and path as it progresses. The temporal motion information is collapsed into a single image template where intensity is a function of recency of motion, where brighter values correspond to a more recent motion.\n",
        "\n",
        "*  Captions -- Textual features describing the videos.\n",
        "> Captions provide a textual description of an video based on the objects and actions in it.\n",
        "\n",
        "\n",
        "\n"
      ]
    },
    {
      "cell_type": "markdown",
      "metadata": {
        "id": "sdzB3NYa_58k",
        "colab_type": "text"
      },
      "source": [
        "### Functions for Loading different Features"
      ]
    },
    {
      "cell_type": "code",
      "metadata": {
        "id": "wjNfb5AUvWgm",
        "colab_type": "code",
        "colab": {}
      },
      "source": [
        "# captions\n",
        "def read_caps(fname):\n",
        "    \"\"\"Load the captions into a dataframe\"\"\"\n",
        "    vn = []\n",
        "    cap = []\n",
        "    df = pd.DataFrame();\n",
        "    with open(fname) as f:\n",
        "        for line in f:\n",
        "            pairs = line.split()\n",
        "            vn.append(pairs[0])\n",
        "            cap.append(pairs[1])\n",
        "        df['video']=vn\n",
        "        df['caption']=cap\n",
        "    return df\n",
        " \n",
        "# loading C3D\n",
        "def read_C3D(fname):\n",
        "    with open(fname) as f:\n",
        "        for line in f:\n",
        "            C3D =[float(item) for item in line.split()] \n",
        "    return C3D\n",
        "  \n",
        "# loading HMP\n",
        "def read_HMP(fname):\n",
        "    \"\"\"Scan HMP(Histogram of Motion Patterns) features from file\"\"\"\n",
        "    with open(fname) as f:\n",
        "        for line in f:\n",
        "            pairs=line.split()\n",
        "            HMP_temp = { int(p.split(':')[0]) : float(p.split(':')[1]) for p in pairs}\n",
        "    # there are 6075 bins, fill zeros\n",
        "    HMP = np.zeros(6075)\n",
        "    for idx in HMP_temp.keys():\n",
        "        HMP[idx-1] = HMP_temp[idx]            \n",
        "    return HMP"
      ],
      "execution_count": 0,
      "outputs": []
    },
    {
      "cell_type": "markdown",
      "metadata": {
        "id": "nq3OihWjAPZL",
        "colab_type": "text"
      },
      "source": [
        "## Declaring Source Paths And Variables\n",
        "> Ground Truth values are loaded as labels and contains:\n",
        "*   Video's name\n",
        "*   Short-term memorability score.\n",
        "*   Number of annotations which was used to calculate its short-term memorability score.\n",
        "*   Long-term memorability score.\n",
        "*   Number of annotations which was used to calculate its long-term memorability score.\n",
        "\n",
        "\n",
        "\n",
        "\n",
        "\n",
        "\n"
      ]
    },
    {
      "cell_type": "code",
      "metadata": {
        "id": "OdB9X-RGvbnf",
        "colab_type": "code",
        "colab": {}
      },
      "source": [
        "# load the captions\n",
        "cap_path = './Dev-set/Captions/dev-set_video-captions.txt'\n",
        "df_cap=read_caps(cap_path)\n",
        "\n",
        "# load the ground truth values\n",
        "label_path = './Dev-set/Ground-truth/ground-truth.csv'\n",
        "labels=pd.read_csv(label_path)\n",
        "\n",
        "# Path for the features\n",
        "Feat_path = '/content/drive/My Drive/CA684_Assignment/Dev-set/'\n",
        "\n",
        "#getting video names using features' name\n",
        "def getnames(featurename):\n",
        "  vnames = os.listdir(Feat_path+featurename)\n",
        "  return vnames\n",
        "\n",
        "#get full path of the features using features' name \n",
        "def getpaths(featurename):\n",
        "  fpath = [Feat_path+featurename+'/' + x for x in  getnames(featurename)]\n",
        "  sorted = natsorted(fpath,alg=ns.IGNORECASE)\n",
        "  print('Feature Path:')\n",
        "  print(sorted[:5])\n",
        "  return sorted\n"
      ],
      "execution_count": 0,
      "outputs": []
    },
    {
      "cell_type": "markdown",
      "metadata": {
        "id": "1bBgexmSAVlS",
        "colab_type": "text"
      },
      "source": [
        "### Functions Definitions\n",
        "> For reading HMP and C3D text files into an numpy array\n",
        "\n"
      ]
    },
    {
      "cell_type": "code",
      "metadata": {
        "id": "ctmmIAWYvfkp",
        "colab_type": "code",
        "colab": {}
      },
      "source": [
        "#load C3D and return as an array of list\n",
        "def df_C3D():\n",
        "  path = getpaths('C3D')\n",
        "  c3d = []\n",
        "  print('Loading C3D')\n",
        "  for item in path:\n",
        "    c3d.append(read_C3D(item))\n",
        "  print('done')\n",
        "  return np.asarray(c3d)\n",
        "\n",
        "#load HMP and return as an array of list\n",
        "def df_HMP():\n",
        "  path = getpaths('HMP')\n",
        "  hmp = []\n",
        "  print('Loading HMP')\n",
        "  for item in path:\n",
        "    hmp.append(read_HMP(item))\n",
        "  print('done')\n",
        "  return np.asarray(hmp)"
      ],
      "execution_count": 0,
      "outputs": []
    },
    {
      "cell_type": "markdown",
      "metadata": {
        "id": "6QMDenysAlJ5",
        "colab_type": "text"
      },
      "source": [
        "### Loading C3D and HMP features."
      ]
    },
    {
      "cell_type": "code",
      "metadata": {
        "id": "n51qwqAevjm9",
        "colab_type": "code",
        "outputId": "476d912d-efe3-456e-8cf5-769a28e63a87",
        "colab": {
          "base_uri": "https://localhost:8080/",
          "height": 111
        }
      },
      "source": [
        "#loading C3D\n",
        "feature1 = df_C3D()"
      ],
      "execution_count": 0,
      "outputs": [
        {
          "output_type": "stream",
          "text": [
            "Feature Path:\n",
            "['/content/drive/My Drive/CA684_Assignment/Dev-set/C3D/video3.txt', '/content/drive/My Drive/CA684_Assignment/Dev-set/C3D/video4.txt', '/content/drive/My Drive/CA684_Assignment/Dev-set/C3D/video6.txt', '/content/drive/My Drive/CA684_Assignment/Dev-set/C3D/video8.txt', '/content/drive/My Drive/CA684_Assignment/Dev-set/C3D/video10.txt']\n",
            "Loading C3D\n",
            "done\n"
          ],
          "name": "stdout"
        }
      ]
    },
    {
      "cell_type": "code",
      "metadata": {
        "id": "Gq9wMraHvroE",
        "colab_type": "code",
        "outputId": "5575037c-6a7f-4cef-d0b1-af3de68ed3c6",
        "colab": {
          "base_uri": "https://localhost:8080/",
          "height": 111
        }
      },
      "source": [
        "feature2 = df_HMP()"
      ],
      "execution_count": 0,
      "outputs": [
        {
          "output_type": "stream",
          "text": [
            "Feature Path:\n",
            "['/content/drive/My Drive/CA684_Assignment/Dev-set/HMP/video3.txt', '/content/drive/My Drive/CA684_Assignment/Dev-set/HMP/video4.txt', '/content/drive/My Drive/CA684_Assignment/Dev-set/HMP/video6.txt', '/content/drive/My Drive/CA684_Assignment/Dev-set/HMP/video8.txt', '/content/drive/My Drive/CA684_Assignment/Dev-set/HMP/video10.txt']\n",
            "Loading HMP\n",
            "done\n"
          ],
          "name": "stdout"
        }
      ]
    },
    {
      "cell_type": "markdown",
      "metadata": {
        "id": "REwDjltwnwnl",
        "colab_type": "text"
      },
      "source": [
        "## Cleaning / Preprocessing of features"
      ]
    },
    {
      "cell_type": "markdown",
      "metadata": {
        "id": "dfZCVlIVA5gc",
        "colab_type": "text"
      },
      "source": [
        "### Optimizing captions"
      ]
    },
    {
      "cell_type": "markdown",
      "metadata": {
        "id": "RW_JqFaoayVm",
        "colab_type": "text"
      },
      "source": [
        "Natural language toolkit library has be used to optimize the captions."
      ]
    },
    {
      "cell_type": "code",
      "metadata": {
        "id": "ADoE07TkwR1z",
        "colab_type": "code",
        "colab": {}
      },
      "source": [
        "from nltk.stem import WordNetLemmatizer\n",
        "from nltk import tokenize\n",
        "from sklearn.feature_extraction.text import TfidfVectorizer\n",
        "import re"
      ],
      "execution_count": 0,
      "outputs": []
    },
    {
      "cell_type": "markdown",
      "metadata": {
        "id": "V_NNl6GIZSxF",
        "colab_type": "text"
      },
      "source": [
        "> Stripping Special Characters"
      ]
    },
    {
      "cell_type": "code",
      "metadata": {
        "id": "g1Y96Rz6-n_6",
        "colab_type": "code",
        "colab": {}
      },
      "source": [
        "df = df_cap.copy()\n",
        "import re\n",
        "def strip_character(dataCol):\n",
        "    r = re.compile(r'[^a-zA-Z]')\n",
        "    return r.sub(' ', str(dataCol))\n",
        "\n",
        "df['caption'] = df['caption'].apply(strip_character)"
      ],
      "execution_count": 0,
      "outputs": []
    },
    {
      "cell_type": "code",
      "metadata": {
        "id": "zRLTogY4-8-n",
        "colab_type": "code",
        "outputId": "a11aa77a-476c-4a05-cb83-a05a644feff0",
        "colab": {
          "base_uri": "https://localhost:8080/",
          "height": 146
        }
      },
      "source": [
        "import nltk\n",
        "from nltk.corpus import stopwords\n",
        "nltk.download('stopwords')\n",
        "nltk.download('wordnet')\n",
        "nltk.download('words')"
      ],
      "execution_count": 0,
      "outputs": [
        {
          "output_type": "stream",
          "text": [
            "[nltk_data] Downloading package stopwords to /root/nltk_data...\n",
            "[nltk_data]   Unzipping corpora/stopwords.zip.\n",
            "[nltk_data] Downloading package wordnet to /root/nltk_data...\n",
            "[nltk_data]   Unzipping corpora/wordnet.zip.\n",
            "[nltk_data] Downloading package words to /root/nltk_data...\n",
            "[nltk_data]   Unzipping corpora/words.zip.\n"
          ],
          "name": "stdout"
        },
        {
          "output_type": "execute_result",
          "data": {
            "text/plain": [
              "True"
            ]
          },
          "metadata": {
            "tags": []
          },
          "execution_count": 16
        }
      ]
    },
    {
      "cell_type": "markdown",
      "metadata": {
        "id": "GDu46r_-Z83a",
        "colab_type": "text"
      },
      "source": [
        "\n",
        "\n",
        "> Removing Stopwords\n",
        "\n"
      ]
    },
    {
      "cell_type": "code",
      "metadata": {
        "id": "esZXTxGTBHUD",
        "colab_type": "code",
        "colab": {}
      },
      "source": [
        "stop = stopwords.words('english') "
      ],
      "execution_count": 0,
      "outputs": []
    },
    {
      "cell_type": "code",
      "metadata": {
        "id": "Raax_MF0BJoC",
        "colab_type": "code",
        "outputId": "2301ee4e-50f7-41c8-ab5a-77d70eaf9fd4",
        "colab": {
          "base_uri": "https://localhost:8080/",
          "height": 128
        }
      },
      "source": [
        "df['caption'] = df['caption'].apply(lambda x: ' '.join([item for item in x.split() if item not in stop]))\n",
        "df['caption'].head()"
      ],
      "execution_count": 0,
      "outputs": [
        {
          "output_type": "execute_result",
          "data": {
            "text/plain": [
              "0                   blonde woman massaged tilt\n",
              "1    roulette table spinning ball closeup shot\n",
              "2                                khr gangsters\n",
              "3            medical helicopter hovers airport\n",
              "4            couple relaxing picnic crane shot\n",
              "Name: caption, dtype: object"
            ]
          },
          "metadata": {
            "tags": []
          },
          "execution_count": 18
        }
      ]
    },
    {
      "cell_type": "markdown",
      "metadata": {
        "id": "NdwfbSEaaWGi",
        "colab_type": "text"
      },
      "source": [
        "\n",
        "\n",
        "> Lemmatization\n",
        "*   Lemmatisation is a process of grouping words together which inflict same forms of a word so they can be analysed as a single item."
      ]
    },
    {
      "cell_type": "code",
      "metadata": {
        "id": "qWIPRNVSBLl0",
        "colab_type": "code",
        "outputId": "f26f749e-12e3-499e-bcb5-e44cd00715e1",
        "colab": {
          "base_uri": "https://localhost:8080/",
          "height": 128
        }
      },
      "source": [
        "df['caption'] = [''.join([WordNetLemmatizer().lemmatize(re.sub('[^A-Za-z]',' ',text)) for text in lis]) for lis in df['caption']]\n",
        "df['caption'].head()"
      ],
      "execution_count": 0,
      "outputs": [
        {
          "output_type": "execute_result",
          "data": {
            "text/plain": [
              "0                   blonde woman massaged tilt\n",
              "1    roulette table spinning ball closeup shot\n",
              "2                                khr gangsters\n",
              "3            medical helicopter hovers airport\n",
              "4            couple relaxing picnic crane shot\n",
              "Name: caption, dtype: object"
            ]
          },
          "metadata": {
            "tags": []
          },
          "execution_count": 19
        }
      ]
    },
    {
      "cell_type": "markdown",
      "metadata": {
        "id": "KUb55NTQbGLF",
        "colab_type": "text"
      },
      "source": [
        "\n",
        "\n",
        "> Extracting Unique Word Count\n",
        "\n"
      ]
    },
    {
      "cell_type": "code",
      "metadata": {
        "id": "jbzrWFfFBNth",
        "colab_type": "code",
        "colab": {}
      },
      "source": [
        "counts = Counter()\n",
        "# pbar = pyprind.ProgBar(len(df['caption']), title='Counting word occurrences')\n",
        "for i, cap in enumerate(df['caption']):\n",
        "    counts.update(cap.split())   "
      ],
      "execution_count": 0,
      "outputs": []
    },
    {
      "cell_type": "code",
      "metadata": {
        "id": "CMg3gq1-BQoE",
        "colab_type": "code",
        "outputId": "45f48f00-5757-4599-d9ed-a525cafe929a",
        "colab": {
          "base_uri": "https://localhost:8080/",
          "height": 109
        }
      },
      "source": [
        "df.caption.values"
      ],
      "execution_count": 0,
      "outputs": [
        {
          "output_type": "execute_result",
          "data": {
            "text/plain": [
              "array(['blonde woman massaged tilt',\n",
              "       'roulette table spinning ball closeup shot', 'khr gangsters', ...,\n",
              "       'students walking university mexico', 'beautiful black woman spa',\n",
              "       'beautiful modern brunette woman using tablet computer luxury bed'],\n",
              "      dtype=object)"
            ]
          },
          "metadata": {
            "tags": []
          },
          "execution_count": 21
        }
      ]
    },
    {
      "cell_type": "markdown",
      "metadata": {
        "id": "EV1n8crqbOWO",
        "colab_type": "text"
      },
      "source": [
        "\n",
        "\n",
        "> n-Gram approach using TF - IDF\n",
        "\n",
        "\n"
      ]
    },
    {
      "cell_type": "code",
      "metadata": {
        "id": "bfYvVzRGBS09",
        "colab_type": "code",
        "colab": {}
      },
      "source": [
        "vect = TfidfVectorizer(ngram_range = (1,4)).fit(df.caption)\n",
        "vect_transformed_X_train = vect.transform(df.caption)\n",
        "len_token = len(vect.get_feature_names())"
      ],
      "execution_count": 0,
      "outputs": []
    },
    {
      "cell_type": "code",
      "metadata": {
        "id": "GKCTLk0rBU1f",
        "colab_type": "code",
        "outputId": "4b398562-0ded-434f-ceca-f3c806f58342",
        "colab": {
          "base_uri": "https://localhost:8080/",
          "height": 35
        }
      },
      "source": [
        "len_token"
      ],
      "execution_count": 0,
      "outputs": [
        {
          "output_type": "execute_result",
          "data": {
            "text/plain": [
              "59584"
            ]
          },
          "metadata": {
            "tags": []
          },
          "execution_count": 23
        }
      ]
    },
    {
      "cell_type": "markdown",
      "metadata": {
        "id": "LLf3dvfecd66",
        "colab_type": "text"
      },
      "source": [
        "\n",
        "\n",
        ">  Maping each unique word in the vector to an integer (one-hot encoding)\n",
        "\n",
        "\n",
        "*   Building word index by using tokenizer\n",
        "*   Fitting a list of captions to the tokinizer\n",
        "> tokenizer vectorizes a text corpus, by turning each text into a sequence of integers\n",
        "\n",
        "\n",
        "\n"
      ]
    },
    {
      "cell_type": "code",
      "metadata": {
        "id": "jP6EarfjBWvo",
        "colab_type": "code",
        "colab": {}
      },
      "source": [
        "len_token = len(counts)\n",
        "tokenizer = Tokenizer(num_words=len_token)"
      ],
      "execution_count": 0,
      "outputs": []
    },
    {
      "cell_type": "code",
      "metadata": {
        "id": "lm2iaBz8BYzQ",
        "colab_type": "code",
        "colab": {}
      },
      "source": [
        "tokenizer.fit_on_texts(list(vect.get_feature_names()))"
      ],
      "execution_count": 0,
      "outputs": []
    },
    {
      "cell_type": "code",
      "metadata": {
        "id": "pmZJ93RvBasw",
        "colab_type": "code",
        "colab": {}
      },
      "source": [
        "captions = tokenizer.texts_to_matrix(list(df.caption.values),mode='binary')"
      ],
      "execution_count": 0,
      "outputs": []
    },
    {
      "cell_type": "code",
      "metadata": {
        "id": "VIXd35nDBcj2",
        "colab_type": "code",
        "outputId": "726db1cc-7473-400a-d1b3-8f931e15bc3c",
        "colab": {
          "base_uri": "https://localhost:8080/",
          "height": 35
        }
      },
      "source": [
        "len(captions)"
      ],
      "execution_count": 0,
      "outputs": [
        {
          "output_type": "execute_result",
          "data": {
            "text/plain": [
              "6000"
            ]
          },
          "metadata": {
            "tags": []
          },
          "execution_count": 27
        }
      ]
    },
    {
      "cell_type": "code",
      "metadata": {
        "id": "-0zShc3hBiYC",
        "colab_type": "code",
        "outputId": "9b59e7db-966e-425c-9c83-7a989df2a67a",
        "colab": {
          "base_uri": "https://localhost:8080/",
          "height": 35
        }
      },
      "source": [
        "#Checking length. Output should be (6000,6000)\n",
        "print(len(feature1),len(feature2))"
      ],
      "execution_count": 0,
      "outputs": [
        {
          "output_type": "stream",
          "text": [
            "6000 6000\n"
          ],
          "name": "stdout"
        }
      ]
    },
    {
      "cell_type": "markdown",
      "metadata": {
        "id": "DEqPyNO3B9Y_",
        "colab_type": "text"
      },
      "source": [
        "## Model Implementations\n",
        ">Models that I have chosen to process futher are:\n",
        "*    Regions with CNN (Convolutional Neural Networks)\n",
        "*    Linear Regression\n",
        "*    Support Vector Regression (SVR)\n",
        "*    Random Forest Regression\n",
        "*    Rigid Regression\n",
        "*    Ensemble approach using SVR, Decision Trees, Linear Regression as base estimators and Rigid Regression as final estimator\n",
        "\n"
      ]
    },
    {
      "cell_type": "markdown",
      "metadata": {
        "id": "dtO3Ewm0KyOl",
        "colab_type": "text"
      },
      "source": [
        "### R-CNN\n",
        "> While loading X_NN variable we can either run individual features or choose to combine multiple features like \n",
        "*    Each feature seperatly (Captions, C3D, HMP) or\n",
        "*    Combine 2 features together ( Captions + C3D, Captions + HMP, HMP + C3D) or\n",
        "*    Combine all 3 features together (C3D + HMP + Captions)\n",
        "\n",
        "\n",
        "```\n",
        "C3D: feature1, HMP: feature2 ,Captions: captions\n",
        "X_NN = np.concatenate((feature1, feature2, captions), axis=1)\n",
        "```\n",
        "\n",
        "\n",
        "\n"
      ]
    },
    {
      "cell_type": "markdown",
      "metadata": {
        "id": "fJWYNCzx59qk",
        "colab_type": "text"
      },
      "source": [
        "<b>Construction</b>\n",
        "\n",
        "\n",
        "A dense layer is just a regular layer of neurons in a NN. Each neuron recieves input from all the neurons in the previous layer, thus densely connected. \n",
        "\n",
        "\n",
        "![alt text](http://www.ece.utep.edu/research/webfuzzy/docs/kk-thesis/kk-thesis-html/img33.gif)\n",
        "\n",
        "\n",
        "The layer has a weight matrix W, a bias vector b, and the activations of previous layer a. The following is the docstring of class Dense from the keras documentation:\n",
        "\n",
        "*output = activation(dot(input, kernel) + bias)*\n",
        "\n",
        "where activation is the element-wise activation function passed as the activation argument, kernel is a weights matrix created by the layer, and bias is a bias vector created by the layer"
      ]
    },
    {
      "cell_type": "markdown",
      "metadata": {
        "id": "mwRhl42rLFfx",
        "colab_type": "text"
      },
      "source": [
        "#### Using Captions"
      ]
    },
    {
      "cell_type": "code",
      "metadata": {
        "id": "2I54obNDLFON",
        "colab_type": "code",
        "colab": {}
      },
      "source": [
        "#Short term and long term memorability score \n",
        "Y_NN = labels[['short-term_memorability','long-term_memorability']].values\n",
        "X_NN = captions"
      ],
      "execution_count": 0,
      "outputs": []
    },
    {
      "cell_type": "markdown",
      "metadata": {
        "id": "j7mGdtTMiHmM",
        "colab_type": "text"
      },
      "source": [
        "\n",
        "\n",
        ">Splitting dataset into test and train set with 90 : 10 ratio\n",
        "\n"
      ]
    },
    {
      "cell_type": "code",
      "metadata": {
        "id": "mjA39YmULFKG",
        "colab_type": "code",
        "colab": {}
      },
      "source": [
        "X_train, X_test, Y_train, Y_test = train_test_split(X_NN,Y_NN, test_size=0.10, random_state=42)"
      ],
      "execution_count": 0,
      "outputs": []
    },
    {
      "cell_type": "code",
      "metadata": {
        "id": "NQHSaE89LFHI",
        "colab_type": "code",
        "outputId": "dac5429e-5730-473b-fe7a-1d3fb5b7185e",
        "colab": {
          "base_uri": "https://localhost:8080/",
          "height": 849
        }
      },
      "source": [
        "# adding dropout and regularizers\n",
        "model = Sequential()\n",
        "model.add(layers.Dense(30,activation='selu',kernel_regularizer=regularizers.l2(0.00001)))\n",
        "model.add(layers.Dropout(0.3))\n",
        "model.add(layers.Dense(25,activation='selu',kernel_regularizer=regularizers.l2(0.00001)))\n",
        "model.add(layers.Dropout(0.7))\n",
        "model.add(layers.Dense(2,activation='selu'))\n",
        "\n",
        "# compiling the model \n",
        "opt = optimizers.RMSprop(lr=0.0009, rho=0.89, decay=0.0)\n",
        "model.compile(optimizer=opt,loss='mse',metrics=['accuracy'])\n",
        "\n",
        "history = model.fit(X_train,Y_train,epochs=22,validation_data=(X_test,Y_test))"
      ],
      "execution_count": 0,
      "outputs": [
        {
          "output_type": "stream",
          "text": [
            "Train on 5400 samples, validate on 600 samples\n",
            "Epoch 1/22\n",
            "5400/5400 [==============================] - 1s 201us/step - loss: 0.1976 - accuracy: 0.5080 - val_loss: 0.0300 - val_accuracy: 0.6767\n",
            "Epoch 2/22\n",
            "5400/5400 [==============================] - 1s 169us/step - loss: 0.0839 - accuracy: 0.5326 - val_loss: 0.0197 - val_accuracy: 0.6983\n",
            "Epoch 3/22\n",
            "5400/5400 [==============================] - 1s 168us/step - loss: 0.0507 - accuracy: 0.5735 - val_loss: 0.0168 - val_accuracy: 0.6950\n",
            "Epoch 4/22\n",
            "5400/5400 [==============================] - 1s 166us/step - loss: 0.0316 - accuracy: 0.6352 - val_loss: 0.0149 - val_accuracy: 0.6950\n",
            "Epoch 5/22\n",
            "5400/5400 [==============================] - 1s 166us/step - loss: 0.0222 - accuracy: 0.6911 - val_loss: 0.0144 - val_accuracy: 0.6950\n",
            "Epoch 6/22\n",
            "5400/5400 [==============================] - 1s 162us/step - loss: 0.0170 - accuracy: 0.7033 - val_loss: 0.0139 - val_accuracy: 0.6950\n",
            "Epoch 7/22\n",
            "5400/5400 [==============================] - 1s 169us/step - loss: 0.0144 - accuracy: 0.7063 - val_loss: 0.0137 - val_accuracy: 0.6950\n",
            "Epoch 8/22\n",
            "5400/5400 [==============================] - 1s 167us/step - loss: 0.0134 - accuracy: 0.7046 - val_loss: 0.0138 - val_accuracy: 0.6950\n",
            "Epoch 9/22\n",
            "5400/5400 [==============================] - 1s 165us/step - loss: 0.0128 - accuracy: 0.7046 - val_loss: 0.0137 - val_accuracy: 0.6950\n",
            "Epoch 10/22\n",
            "5400/5400 [==============================] - 1s 162us/step - loss: 0.0126 - accuracy: 0.7044 - val_loss: 0.0138 - val_accuracy: 0.6950\n",
            "Epoch 11/22\n",
            "5400/5400 [==============================] - 1s 175us/step - loss: 0.0124 - accuracy: 0.7054 - val_loss: 0.0137 - val_accuracy: 0.6950\n",
            "Epoch 12/22\n",
            "5400/5400 [==============================] - 1s 171us/step - loss: 0.0123 - accuracy: 0.7050 - val_loss: 0.0136 - val_accuracy: 0.6950\n",
            "Epoch 13/22\n",
            "5400/5400 [==============================] - 1s 168us/step - loss: 0.0123 - accuracy: 0.7046 - val_loss: 0.0137 - val_accuracy: 0.6950\n",
            "Epoch 14/22\n",
            "5400/5400 [==============================] - 1s 164us/step - loss: 0.0122 - accuracy: 0.7050 - val_loss: 0.0138 - val_accuracy: 0.6950\n",
            "Epoch 15/22\n",
            "5400/5400 [==============================] - 1s 164us/step - loss: 0.0120 - accuracy: 0.7054 - val_loss: 0.0138 - val_accuracy: 0.6950\n",
            "Epoch 16/22\n",
            "5400/5400 [==============================] - 1s 175us/step - loss: 0.0120 - accuracy: 0.7037 - val_loss: 0.0139 - val_accuracy: 0.6950\n",
            "Epoch 17/22\n",
            "5400/5400 [==============================] - 1s 160us/step - loss: 0.0120 - accuracy: 0.7063 - val_loss: 0.0137 - val_accuracy: 0.6950\n",
            "Epoch 18/22\n",
            "5400/5400 [==============================] - 1s 170us/step - loss: 0.0122 - accuracy: 0.7046 - val_loss: 0.0139 - val_accuracy: 0.6950\n",
            "Epoch 19/22\n",
            "5400/5400 [==============================] - 1s 170us/step - loss: 0.0120 - accuracy: 0.7043 - val_loss: 0.0140 - val_accuracy: 0.6950\n",
            "Epoch 20/22\n",
            "5400/5400 [==============================] - 1s 170us/step - loss: 0.0120 - accuracy: 0.7044 - val_loss: 0.0139 - val_accuracy: 0.6950\n",
            "Epoch 21/22\n",
            "5400/5400 [==============================] - 1s 163us/step - loss: 0.0120 - accuracy: 0.7065 - val_loss: 0.0138 - val_accuracy: 0.6950\n",
            "Epoch 22/22\n",
            "5400/5400 [==============================] - 1s 172us/step - loss: 0.0120 - accuracy: 0.7061 - val_loss: 0.0138 - val_accuracy: 0.6950\n"
          ],
          "name": "stdout"
        }
      ]
    },
    {
      "cell_type": "code",
      "metadata": {
        "id": "zTLM--eYLFE2",
        "colab_type": "code",
        "outputId": "8a5870f3-ac33-4342-e8ea-a780c9015974",
        "colab": {
          "base_uri": "https://localhost:8080/",
          "height": 573
        }
      },
      "source": [
        "loss = history.history['loss']\n",
        "val_loss = history.history['val_loss']\n",
        "\n",
        "epochs = range(1,len(loss)+1)\n",
        "\n",
        "plt.plot(history.history['accuracy'])\n",
        "plt.plot(history.history['val_accuracy'])\n",
        "plt.title('model accuracy')\n",
        "plt.ylabel('accuracy')\n",
        "plt.xlabel('epoch')\n",
        "plt.legend(['train', 'val'])\n",
        "plt.show()\n",
        "\n",
        "plt.plot(history.history['loss'])\n",
        "plt.plot(history.history['val_loss'])\n",
        "plt.title('model loss')\n",
        "plt.ylabel('loss')\n",
        "plt.xlabel('epoch')\n",
        "plt.legend(['train', 'val'])\n",
        "plt.show()"
      ],
      "execution_count": 0,
      "outputs": [
        {
          "output_type": "display_data",
          "data": {
            "image/png": "[encoded data removed]",
            "text/plain": [
              "<Figure size 432x288 with 1 Axes>"
            ]
          },
          "metadata": {
            "tags": []
          }
        },
        {
          "output_type": "display_data",
          "data": {
            "image/png": "[encoded data removed]",
            "text/plain": [
              "<Figure size 432x288 with 1 Axes>"
            ]
          },
          "metadata": {
            "tags": []
          }
        }
      ]
    },
    {
      "cell_type": "code",
      "metadata": {
        "id": "sG_BHq8gLFB8",
        "colab_type": "code",
        "outputId": "9d681133-917d-411a-cf0f-1db09d985f11",
        "colab": {
          "base_uri": "https://localhost:8080/",
          "height": 35
        }
      },
      "source": [
        "predictionsNN = model.predict(X_test)\n",
        "print(predictionsNN.shape)"
      ],
      "execution_count": 0,
      "outputs": [
        {
          "output_type": "stream",
          "text": [
            "(600, 2)\n"
          ],
          "name": "stdout"
        }
      ]
    },
    {
      "cell_type": "code",
      "metadata": {
        "id": "THBzrQcOLE-9",
        "colab_type": "code",
        "outputId": "d9f39989-d823-4cc1-9dd7-b18d76bf9d9e",
        "colab": {
          "base_uri": "https://localhost:8080/",
          "height": 54
        }
      },
      "source": [
        "Get_score(predictionsNN, Y_test)"
      ],
      "execution_count": 0,
      "outputs": [
        {
          "output_type": "stream",
          "text": [
            "The Spearman's correlation coefficient is: 0.453\n",
            "The Spearman's correlation coefficient is: 0.190\n"
          ],
          "name": "stdout"
        }
      ]
    },
    {
      "cell_type": "markdown",
      "metadata": {
        "id": "ByAA0YdaLlu_",
        "colab_type": "text"
      },
      "source": [
        "#### Using C3D Features"
      ]
    },
    {
      "cell_type": "code",
      "metadata": {
        "id": "S5RYRvZWLE75",
        "colab_type": "code",
        "colab": {}
      },
      "source": [
        "#Short term and long term memorability score \n",
        "Y_NN = labels[['short-term_memorability','long-term_memorability']].values\n",
        "X_NN = feature1"
      ],
      "execution_count": 0,
      "outputs": []
    },
    {
      "cell_type": "code",
      "metadata": {
        "id": "_0fu-LaMLE45",
        "colab_type": "code",
        "colab": {}
      },
      "source": [
        "#Splitting dataset into test and train set with 90:10 ratio\n",
        "X_train, X_test, Y_train, Y_test = train_test_split(X_NN,Y_NN, test_size=0.10, random_state=42)"
      ],
      "execution_count": 0,
      "outputs": []
    },
    {
      "cell_type": "code",
      "metadata": {
        "id": "oODFATZ6LE15",
        "colab_type": "code",
        "outputId": "3c0d4df9-4559-4933-b43a-0d93072c36c3",
        "colab": {
          "base_uri": "https://localhost:8080/",
          "height": 849
        }
      },
      "source": [
        "# adding dropout and regularizers\n",
        "model = Sequential()\n",
        "model.add(layers.Dense(30,activation='selu',kernel_regularizer=regularizers.l2(0.00001)))\n",
        "model.add(layers.Dropout(0.3))\n",
        "model.add(layers.Dense(25,activation='selu',kernel_regularizer=regularizers.l2(0.00001)))\n",
        "model.add(layers.Dropout(0.7))\n",
        "model.add(layers.Dense(2,activation='selu'))\n",
        "\n",
        "# compiling the model \n",
        "opt = optimizers.RMSprop(lr=0.0009, rho=0.89, decay=0.0)\n",
        "model.compile(optimizer=opt,loss='mse',metrics=['accuracy'])\n",
        "\n",
        "history = model.fit(X_train,Y_train,epochs=22,validation_data=(X_test,Y_test))"
      ],
      "execution_count": 0,
      "outputs": [
        {
          "output_type": "stream",
          "text": [
            "Train on 5400 samples, validate on 600 samples\n",
            "Epoch 1/22\n",
            "5400/5400 [==============================] - 0s 83us/step - loss: 0.3195 - accuracy: 0.4863 - val_loss: 0.0302 - val_accuracy: 0.5233\n",
            "Epoch 2/22\n",
            "5400/5400 [==============================] - 0s 51us/step - loss: 0.1057 - accuracy: 0.5217 - val_loss: 0.0196 - val_accuracy: 0.6900\n",
            "Epoch 3/22\n",
            "5400/5400 [==============================] - 0s 48us/step - loss: 0.0533 - accuracy: 0.5956 - val_loss: 0.0158 - val_accuracy: 0.6950\n",
            "Epoch 4/22\n",
            "5400/5400 [==============================] - 0s 48us/step - loss: 0.0324 - accuracy: 0.6546 - val_loss: 0.0161 - val_accuracy: 0.6950\n",
            "Epoch 5/22\n",
            "5400/5400 [==============================] - 0s 47us/step - loss: 0.0221 - accuracy: 0.6976 - val_loss: 0.0147 - val_accuracy: 0.6950\n",
            "Epoch 6/22\n",
            "5400/5400 [==============================] - 0s 48us/step - loss: 0.0176 - accuracy: 0.7057 - val_loss: 0.0146 - val_accuracy: 0.6950\n",
            "Epoch 7/22\n",
            "5400/5400 [==============================] - 0s 52us/step - loss: 0.0154 - accuracy: 0.7059 - val_loss: 0.0145 - val_accuracy: 0.6950\n",
            "Epoch 8/22\n",
            "5400/5400 [==============================] - 0s 49us/step - loss: 0.0142 - accuracy: 0.7059 - val_loss: 0.0145 - val_accuracy: 0.6950\n",
            "Epoch 9/22\n",
            "5400/5400 [==============================] - 0s 48us/step - loss: 0.0138 - accuracy: 0.7059 - val_loss: 0.0144 - val_accuracy: 0.6950\n",
            "Epoch 10/22\n",
            "5400/5400 [==============================] - 0s 47us/step - loss: 0.0137 - accuracy: 0.7059 - val_loss: 0.0144 - val_accuracy: 0.6950\n",
            "Epoch 11/22\n",
            "5400/5400 [==============================] - 0s 51us/step - loss: 0.0135 - accuracy: 0.7059 - val_loss: 0.0143 - val_accuracy: 0.6950\n",
            "Epoch 12/22\n",
            "5400/5400 [==============================] - 0s 49us/step - loss: 0.0134 - accuracy: 0.7059 - val_loss: 0.0143 - val_accuracy: 0.6950\n",
            "Epoch 13/22\n",
            "5400/5400 [==============================] - 0s 48us/step - loss: 0.0134 - accuracy: 0.7059 - val_loss: 0.0143 - val_accuracy: 0.6950\n",
            "Epoch 14/22\n",
            "5400/5400 [==============================] - 0s 49us/step - loss: 0.0133 - accuracy: 0.7059 - val_loss: 0.0143 - val_accuracy: 0.6950\n",
            "Epoch 15/22\n",
            "5400/5400 [==============================] - 0s 47us/step - loss: 0.0133 - accuracy: 0.7059 - val_loss: 0.0143 - val_accuracy: 0.6950\n",
            "Epoch 16/22\n",
            "5400/5400 [==============================] - 0s 48us/step - loss: 0.0133 - accuracy: 0.7059 - val_loss: 0.0143 - val_accuracy: 0.6950\n",
            "Epoch 17/22\n",
            "5400/5400 [==============================] - 0s 47us/step - loss: 0.0133 - accuracy: 0.7059 - val_loss: 0.0143 - val_accuracy: 0.6950\n",
            "Epoch 18/22\n",
            "5400/5400 [==============================] - 0s 48us/step - loss: 0.0133 - accuracy: 0.7059 - val_loss: 0.0143 - val_accuracy: 0.6950\n",
            "Epoch 19/22\n",
            "5400/5400 [==============================] - 0s 48us/step - loss: 0.0133 - accuracy: 0.7059 - val_loss: 0.0142 - val_accuracy: 0.6950\n",
            "Epoch 20/22\n",
            "5400/5400 [==============================] - 0s 49us/step - loss: 0.0133 - accuracy: 0.7059 - val_loss: 0.0144 - val_accuracy: 0.6950\n",
            "Epoch 21/22\n",
            "5400/5400 [==============================] - 0s 48us/step - loss: 0.0133 - accuracy: 0.7059 - val_loss: 0.0142 - val_accuracy: 0.6950\n",
            "Epoch 22/22\n",
            "5400/5400 [==============================] - 0s 47us/step - loss: 0.0132 - accuracy: 0.7059 - val_loss: 0.0142 - val_accuracy: 0.6950\n"
          ],
          "name": "stdout"
        }
      ]
    },
    {
      "cell_type": "code",
      "metadata": {
        "id": "vV1O00UUL3wY",
        "colab_type": "code",
        "outputId": "838b004c-d17b-4004-87b3-775841f80c55",
        "colab": {
          "base_uri": "https://localhost:8080/",
          "height": 573
        }
      },
      "source": [
        "loss = history.history['loss']\n",
        "val_loss = history.history['val_loss']\n",
        "\n",
        "epochs = range(1,len(loss)+1)\n",
        "\n",
        "plt.plot(history.history['accuracy'])\n",
        "plt.plot(history.history['val_accuracy'])\n",
        "plt.title('model accuracy')\n",
        "plt.ylabel('accuracy')\n",
        "plt.xlabel('epoch')\n",
        "plt.legend(['train', 'val'])\n",
        "plt.show()\n",
        "\n",
        "plt.plot(history.history['loss'])\n",
        "plt.plot(history.history['val_loss'])\n",
        "plt.title('model loss')\n",
        "plt.ylabel('loss')\n",
        "plt.xlabel('epoch')\n",
        "plt.legend(['train', 'val'])\n",
        "plt.show()"
      ],
      "execution_count": 0,
      "outputs": [
        {
          "output_type": "display_data",
          "data": {
            "image/png": "[encoded data removed]",
            "text/plain": [
              "<Figure size 432x288 with 1 Axes>"
            ]
          },
          "metadata": {
            "tags": []
          }
        },
        {
          "output_type": "display_data",
          "data": {
            "image/png": "[encoded data removed]",
            "text/plain": [
              "<Figure size 432x288 with 1 Axes>"
            ]
          },
          "metadata": {
            "tags": []
          }
        }
      ]
    },
    {
      "cell_type": "code",
      "metadata": {
        "id": "VBRPr6fxL9oM",
        "colab_type": "code",
        "outputId": "f7725a50-0df5-478b-ad53-434a682459ea",
        "colab": {
          "base_uri": "https://localhost:8080/",
          "height": 35
        }
      },
      "source": [
        "predictionsNN = model.predict(X_test)\n",
        "print(predictionsNN.shape)"
      ],
      "execution_count": 0,
      "outputs": [
        {
          "output_type": "stream",
          "text": [
            "(600, 2)\n"
          ],
          "name": "stdout"
        }
      ]
    },
    {
      "cell_type": "code",
      "metadata": {
        "id": "KMJJ0eITL9QE",
        "colab_type": "code",
        "outputId": "33298b56-9edd-4e57-e969-004b2a9a8cb7",
        "colab": {
          "base_uri": "https://localhost:8080/",
          "height": 54
        }
      },
      "source": [
        "Get_score(predictionsNN, Y_test)"
      ],
      "execution_count": 0,
      "outputs": [
        {
          "output_type": "stream",
          "text": [
            "The Spearman's correlation coefficient is: 0.292\n",
            "The Spearman's correlation coefficient is: 0.142\n"
          ],
          "name": "stdout"
        }
      ]
    },
    {
      "cell_type": "markdown",
      "metadata": {
        "id": "fFUDvuOIMMzH",
        "colab_type": "text"
      },
      "source": [
        "#### Using HMP Features"
      ]
    },
    {
      "cell_type": "code",
      "metadata": {
        "id": "qM29cIVxMMiu",
        "colab_type": "code",
        "colab": {}
      },
      "source": [
        "#Short term and long term memorability score \n",
        "Y_NN = labels[['short-term_memorability','long-term_memorability']].values\n",
        "X_NN = feature2"
      ],
      "execution_count": 0,
      "outputs": []
    },
    {
      "cell_type": "code",
      "metadata": {
        "id": "VUP5yDAgMMgE",
        "colab_type": "code",
        "colab": {}
      },
      "source": [
        "#Splitting dataset into test and train set with 90:10 ratio\n",
        "X_train, X_test, Y_train, Y_test = train_test_split(X_NN,Y_NN, test_size=0.10, random_state=42)"
      ],
      "execution_count": 0,
      "outputs": []
    },
    {
      "cell_type": "code",
      "metadata": {
        "id": "hiVV6cfuMMdS",
        "colab_type": "code",
        "outputId": "354bdd1a-423f-42a9-e47e-5df4065b662a",
        "colab": {
          "base_uri": "https://localhost:8080/",
          "height": 849
        }
      },
      "source": [
        "# adding dropout and regularizers\n",
        "model = Sequential()\n",
        "model.add(layers.Dense(30,activation='selu',kernel_regularizer=regularizers.l2(0.00001)))\n",
        "model.add(layers.Dropout(0.3))\n",
        "model.add(layers.Dense(25,activation='selu',kernel_regularizer=regularizers.l2(0.00001)))\n",
        "model.add(layers.Dropout(0.7))\n",
        "model.add(layers.Dense(2,activation='selu'))\n",
        "\n",
        "# compiling the model \n",
        "opt = optimizers.RMSprop(lr=0.0009, rho=0.89, decay=0.0)\n",
        "model.compile(optimizer=opt,loss='mse',metrics=['accuracy'])\n",
        "\n",
        "history = model.fit(X_train,Y_train,epochs=22,validation_data=(X_test,Y_test))"
      ],
      "execution_count": 0,
      "outputs": [
        {
          "output_type": "stream",
          "text": [
            "Train on 5400 samples, validate on 600 samples\n",
            "Epoch 1/22\n",
            "5400/5400 [==============================] - 1s 210us/step - loss: 0.1267 - accuracy: 0.5272 - val_loss: 0.0376 - val_accuracy: 0.6950\n",
            "Epoch 2/22\n",
            "5400/5400 [==============================] - 1s 180us/step - loss: 0.0623 - accuracy: 0.5633 - val_loss: 0.0160 - val_accuracy: 0.6950\n",
            "Epoch 3/22\n",
            "5400/5400 [==============================] - 1s 175us/step - loss: 0.0409 - accuracy: 0.5948 - val_loss: 0.0162 - val_accuracy: 0.6950\n",
            "Epoch 4/22\n",
            "5400/5400 [==============================] - 1s 173us/step - loss: 0.0283 - accuracy: 0.6580 - val_loss: 0.0163 - val_accuracy: 0.6950\n",
            "Epoch 5/22\n",
            "5400/5400 [==============================] - 1s 179us/step - loss: 0.0216 - accuracy: 0.6989 - val_loss: 0.0153 - val_accuracy: 0.6950\n",
            "Epoch 6/22\n",
            "5400/5400 [==============================] - 1s 186us/step - loss: 0.0176 - accuracy: 0.7054 - val_loss: 0.0148 - val_accuracy: 0.6950\n",
            "Epoch 7/22\n",
            "5400/5400 [==============================] - 1s 177us/step - loss: 0.0155 - accuracy: 0.7059 - val_loss: 0.0147 - val_accuracy: 0.6950\n",
            "Epoch 8/22\n",
            "5400/5400 [==============================] - 1s 174us/step - loss: 0.0145 - accuracy: 0.7059 - val_loss: 0.0146 - val_accuracy: 0.6950\n",
            "Epoch 9/22\n",
            "5400/5400 [==============================] - 1s 178us/step - loss: 0.0140 - accuracy: 0.7059 - val_loss: 0.0146 - val_accuracy: 0.6950\n",
            "Epoch 10/22\n",
            "5400/5400 [==============================] - 1s 182us/step - loss: 0.0139 - accuracy: 0.7059 - val_loss: 0.0146 - val_accuracy: 0.6950\n",
            "Epoch 11/22\n",
            "5400/5400 [==============================] - 1s 175us/step - loss: 0.0138 - accuracy: 0.7059 - val_loss: 0.0145 - val_accuracy: 0.6950\n",
            "Epoch 12/22\n",
            "5400/5400 [==============================] - 1s 182us/step - loss: 0.0137 - accuracy: 0.7059 - val_loss: 0.0145 - val_accuracy: 0.6950\n",
            "Epoch 13/22\n",
            "5400/5400 [==============================] - 1s 181us/step - loss: 0.0137 - accuracy: 0.7059 - val_loss: 0.0145 - val_accuracy: 0.6950\n",
            "Epoch 14/22\n",
            "5400/5400 [==============================] - 1s 180us/step - loss: 0.0136 - accuracy: 0.7059 - val_loss: 0.0145 - val_accuracy: 0.6950\n",
            "Epoch 15/22\n",
            "5400/5400 [==============================] - 1s 177us/step - loss: 0.0136 - accuracy: 0.7059 - val_loss: 0.0145 - val_accuracy: 0.6950\n",
            "Epoch 16/22\n",
            "5400/5400 [==============================] - 1s 174us/step - loss: 0.0136 - accuracy: 0.7059 - val_loss: 0.0145 - val_accuracy: 0.6950\n",
            "Epoch 17/22\n",
            "5400/5400 [==============================] - 1s 179us/step - loss: 0.0136 - accuracy: 0.7059 - val_loss: 0.0145 - val_accuracy: 0.6950\n",
            "Epoch 18/22\n",
            "5400/5400 [==============================] - 1s 174us/step - loss: 0.0136 - accuracy: 0.7059 - val_loss: 0.0146 - val_accuracy: 0.6950\n",
            "Epoch 19/22\n",
            "5400/5400 [==============================] - 1s 172us/step - loss: 0.0136 - accuracy: 0.7059 - val_loss: 0.0147 - val_accuracy: 0.6950\n",
            "Epoch 20/22\n",
            "5400/5400 [==============================] - 1s 177us/step - loss: 0.0136 - accuracy: 0.7059 - val_loss: 0.0145 - val_accuracy: 0.6950\n",
            "Epoch 21/22\n",
            "5400/5400 [==============================] - 1s 178us/step - loss: 0.0135 - accuracy: 0.7059 - val_loss: 0.0145 - val_accuracy: 0.6950\n",
            "Epoch 22/22\n",
            "5400/5400 [==============================] - 1s 178us/step - loss: 0.0135 - accuracy: 0.7059 - val_loss: 0.0145 - val_accuracy: 0.6950\n"
          ],
          "name": "stdout"
        }
      ]
    },
    {
      "cell_type": "code",
      "metadata": {
        "id": "j3DJ0ILMMMaX",
        "colab_type": "code",
        "outputId": "3fa8fd78-5169-4c27-d34a-7846471d42d9",
        "colab": {
          "base_uri": "https://localhost:8080/",
          "height": 573
        }
      },
      "source": [
        "loss = history.history['loss']\n",
        "val_loss = history.history['val_loss']\n",
        "\n",
        "epochs = range(1,len(loss)+1)\n",
        "\n",
        "plt.plot(history.history['accuracy'])\n",
        "plt.plot(history.history['val_accuracy'])\n",
        "plt.title('model accuracy')\n",
        "plt.ylabel('accuracy')\n",
        "plt.xlabel('epoch')\n",
        "plt.legend(['train', 'val'])\n",
        "plt.show()\n",
        "\n",
        "plt.plot(history.history['loss'])\n",
        "plt.plot(history.history['val_loss'])\n",
        "plt.title('model loss')\n",
        "plt.ylabel('loss')\n",
        "plt.xlabel('epoch')\n",
        "plt.legend(['train', 'val'])\n",
        "plt.show()"
      ],
      "execution_count": 0,
      "outputs": [
        {
          "output_type": "display_data",
          "data": {
            "image/png": "[encoded data removed]",
            "text/plain": [
              "<Figure size 432x288 with 1 Axes>"
            ]
          },
          "metadata": {
            "tags": []
          }
        },
        {
          "output_type": "display_data",
          "data": {
            "image/png": "[encoded data removed]",
            "text/plain": [
              "<Figure size 432x288 with 1 Axes>"
            ]
          },
          "metadata": {
            "tags": []
          }
        }
      ]
    },
    {
      "cell_type": "code",
      "metadata": {
        "id": "9nZ2kXoLMMXT",
        "colab_type": "code",
        "outputId": "0d53dfd6-0e83-450d-93b6-155236787d82",
        "colab": {
          "base_uri": "https://localhost:8080/",
          "height": 35
        }
      },
      "source": [
        "predictionsNN = model.predict(X_test)\n",
        "print(predictionsNN.shape)"
      ],
      "execution_count": 0,
      "outputs": [
        {
          "output_type": "stream",
          "text": [
            "(600, 2)\n"
          ],
          "name": "stdout"
        }
      ]
    },
    {
      "cell_type": "code",
      "metadata": {
        "id": "bEcVMimTMMUN",
        "colab_type": "code",
        "outputId": "27c1f6dc-9795-4e4b-e9dc-2ecb9f14ebc7",
        "colab": {
          "base_uri": "https://localhost:8080/",
          "height": 54
        }
      },
      "source": [
        "Get_score(predictionsNN, Y_test)"
      ],
      "execution_count": 0,
      "outputs": [
        {
          "output_type": "stream",
          "text": [
            "The Spearman's correlation coefficient is: 0.279\n",
            "The Spearman's correlation coefficient is: 0.134\n"
          ],
          "name": "stdout"
        }
      ]
    },
    {
      "cell_type": "markdown",
      "metadata": {
        "id": "CxmeRyzXMsm_",
        "colab_type": "text"
      },
      "source": [
        "#### Caption and C3D features combined together"
      ]
    },
    {
      "cell_type": "code",
      "metadata": {
        "id": "iucPEU7OMytX",
        "colab_type": "code",
        "colab": {}
      },
      "source": [
        "#Short term and long term memorability score \n",
        "Y_NN = labels[['short-term_memorability','long-term_memorability']].values\n",
        "X_NN = np.concatenate((captions,feature1), axis=1)"
      ],
      "execution_count": 0,
      "outputs": []
    },
    {
      "cell_type": "code",
      "metadata": {
        "id": "WC8S4xDjMyqK",
        "colab_type": "code",
        "colab": {}
      },
      "source": [
        "#Splitting dataset into test and train set with 90:10 ratio\n",
        "X_train, X_test, Y_train, Y_test = train_test_split(X_NN,Y_NN, test_size=0.10, random_state=42)"
      ],
      "execution_count": 0,
      "outputs": []
    },
    {
      "cell_type": "code",
      "metadata": {
        "id": "sdqOqAH1MynD",
        "colab_type": "code",
        "outputId": "a07ea105-2e6e-4580-a917-93b4167d6340",
        "colab": {
          "base_uri": "https://localhost:8080/",
          "height": 849
        }
      },
      "source": [
        "# adding dropout and regularizers\n",
        "model = Sequential()\n",
        "model.add(layers.Dense(30,activation='selu',kernel_regularizer=regularizers.l2(0.00001)))\n",
        "model.add(layers.Dropout(0.3))\n",
        "model.add(layers.Dense(25,activation='selu',kernel_regularizer=regularizers.l2(0.00001)))\n",
        "model.add(layers.Dropout(0.7))\n",
        "model.add(layers.Dense(2,activation='selu'))\n",
        "\n",
        "# compiling the model \n",
        "opt = optimizers.RMSprop(lr=0.0009, rho=0.89, decay=0.0)\n",
        "model.compile(optimizer=opt,loss='mse',metrics=['accuracy'])\n",
        "\n",
        "history = model.fit(X_train,Y_train,epochs=22,validation_data=(X_test,Y_test))"
      ],
      "execution_count": 0,
      "outputs": [
        {
          "output_type": "stream",
          "text": [
            "Train on 5400 samples, validate on 600 samples\n",
            "Epoch 1/22\n",
            "5400/5400 [==============================] - 1s 205us/step - loss: 0.2002 - accuracy: 0.5322 - val_loss: 0.0272 - val_accuracy: 0.6633\n",
            "Epoch 2/22\n",
            "5400/5400 [==============================] - 1s 165us/step - loss: 0.0929 - accuracy: 0.5528 - val_loss: 0.0173 - val_accuracy: 0.6833\n",
            "Epoch 3/22\n",
            "5400/5400 [==============================] - 1s 158us/step - loss: 0.0537 - accuracy: 0.5778 - val_loss: 0.0170 - val_accuracy: 0.6950\n",
            "Epoch 4/22\n",
            "5400/5400 [==============================] - 1s 160us/step - loss: 0.0331 - accuracy: 0.6143 - val_loss: 0.0142 - val_accuracy: 0.6950\n",
            "Epoch 5/22\n",
            "5400/5400 [==============================] - 1s 167us/step - loss: 0.0226 - accuracy: 0.6715 - val_loss: 0.0143 - val_accuracy: 0.6950\n",
            "Epoch 6/22\n",
            "5400/5400 [==============================] - 1s 161us/step - loss: 0.0168 - accuracy: 0.6987 - val_loss: 0.0139 - val_accuracy: 0.6950\n",
            "Epoch 7/22\n",
            "5400/5400 [==============================] - 1s 160us/step - loss: 0.0143 - accuracy: 0.7070 - val_loss: 0.0136 - val_accuracy: 0.6950\n",
            "Epoch 8/22\n",
            "5400/5400 [==============================] - 1s 161us/step - loss: 0.0130 - accuracy: 0.7059 - val_loss: 0.0138 - val_accuracy: 0.6950\n",
            "Epoch 9/22\n",
            "5400/5400 [==============================] - 1s 163us/step - loss: 0.0124 - accuracy: 0.7052 - val_loss: 0.0136 - val_accuracy: 0.6950\n",
            "Epoch 10/22\n",
            "5400/5400 [==============================] - 1s 168us/step - loss: 0.0123 - accuracy: 0.7074 - val_loss: 0.0137 - val_accuracy: 0.6950\n",
            "Epoch 11/22\n",
            "5400/5400 [==============================] - 1s 167us/step - loss: 0.0122 - accuracy: 0.7061 - val_loss: 0.0138 - val_accuracy: 0.6950\n",
            "Epoch 12/22\n",
            "5400/5400 [==============================] - 1s 160us/step - loss: 0.0120 - accuracy: 0.7050 - val_loss: 0.0137 - val_accuracy: 0.6950\n",
            "Epoch 13/22\n",
            "5400/5400 [==============================] - 1s 168us/step - loss: 0.0120 - accuracy: 0.7063 - val_loss: 0.0138 - val_accuracy: 0.6950\n",
            "Epoch 14/22\n",
            "5400/5400 [==============================] - 1s 168us/step - loss: 0.0120 - accuracy: 0.7087 - val_loss: 0.0137 - val_accuracy: 0.6950\n",
            "Epoch 15/22\n",
            "5400/5400 [==============================] - 1s 174us/step - loss: 0.0120 - accuracy: 0.7085 - val_loss: 0.0138 - val_accuracy: 0.6950\n",
            "Epoch 16/22\n",
            "5400/5400 [==============================] - 1s 167us/step - loss: 0.0119 - accuracy: 0.7037 - val_loss: 0.0138 - val_accuracy: 0.6950\n",
            "Epoch 17/22\n",
            "5400/5400 [==============================] - 1s 159us/step - loss: 0.0118 - accuracy: 0.7078 - val_loss: 0.0138 - val_accuracy: 0.6950\n",
            "Epoch 18/22\n",
            "5400/5400 [==============================] - 1s 163us/step - loss: 0.0118 - accuracy: 0.7070 - val_loss: 0.0139 - val_accuracy: 0.6950\n",
            "Epoch 19/22\n",
            "5400/5400 [==============================] - 1s 167us/step - loss: 0.0118 - accuracy: 0.7048 - val_loss: 0.0138 - val_accuracy: 0.6950\n",
            "Epoch 20/22\n",
            "5400/5400 [==============================] - 1s 167us/step - loss: 0.0119 - accuracy: 0.7059 - val_loss: 0.0138 - val_accuracy: 0.6950\n",
            "Epoch 21/22\n",
            "5400/5400 [==============================] - 1s 157us/step - loss: 0.0118 - accuracy: 0.7070 - val_loss: 0.0137 - val_accuracy: 0.6917\n",
            "Epoch 22/22\n",
            "5400/5400 [==============================] - 1s 166us/step - loss: 0.0119 - accuracy: 0.7033 - val_loss: 0.0138 - val_accuracy: 0.6933\n"
          ],
          "name": "stdout"
        }
      ]
    },
    {
      "cell_type": "code",
      "metadata": {
        "id": "hmEtlu_GMMRZ",
        "colab_type": "code",
        "outputId": "5453480b-7cae-4f4d-8347-14fa0e609f9b",
        "colab": {
          "base_uri": "https://localhost:8080/",
          "height": 573
        }
      },
      "source": [
        "loss = history.history['loss']\n",
        "val_loss = history.history['val_loss']\n",
        "\n",
        "epochs = range(1,len(loss)+1)\n",
        "\n",
        "plt.plot(history.history['accuracy'])\n",
        "plt.plot(history.history['val_accuracy'])\n",
        "plt.title('model accuracy')\n",
        "plt.ylabel('accuracy')\n",
        "plt.xlabel('epoch')\n",
        "plt.legend(['train', 'val'])\n",
        "plt.show()\n",
        "\n",
        "plt.plot(history.history['loss'])\n",
        "plt.plot(history.history['val_loss'])\n",
        "plt.title('model loss')\n",
        "plt.ylabel('loss')\n",
        "plt.xlabel('epoch')\n",
        "plt.legend(['train', 'val'])\n",
        "plt.show()"
      ],
      "execution_count": 0,
      "outputs": [
        {
          "output_type": "display_data",
          "data": {
            "image/png": "[encoded data removed]",
            "text/plain": [
              "<Figure size 432x288 with 1 Axes>"
            ]
          },
          "metadata": {
            "tags": []
          }
        },
        {
          "output_type": "display_data",
          "data": {
            "image/png": "[encoded data removed]",
            "text/plain": [
              "<Figure size 432x288 with 1 Axes>"
            ]
          },
          "metadata": {
            "tags": []
          }
        }
      ]
    },
    {
      "cell_type": "code",
      "metadata": {
        "id": "lfoX2GDjMMOO",
        "colab_type": "code",
        "outputId": "2273984b-7939-490a-d106-024966d42d2b",
        "colab": {
          "base_uri": "https://localhost:8080/",
          "height": 35
        }
      },
      "source": [
        "predictionsNN = model.predict(X_test)\n",
        "print(predictionsNN.shape)"
      ],
      "execution_count": 0,
      "outputs": [
        {
          "output_type": "stream",
          "text": [
            "(600, 2)\n"
          ],
          "name": "stdout"
        }
      ]
    },
    {
      "cell_type": "code",
      "metadata": {
        "id": "1iY_LnfxMMLA",
        "colab_type": "code",
        "outputId": "779fbf8c-5ae4-41e7-824b-4cd95dcb1da3",
        "colab": {
          "base_uri": "https://localhost:8080/",
          "height": 54
        }
      },
      "source": [
        "Get_score(predictionsNN, Y_test)"
      ],
      "execution_count": 0,
      "outputs": [
        {
          "output_type": "stream",
          "text": [
            "The Spearman's correlation coefficient is: 0.460\n",
            "The Spearman's correlation coefficient is: 0.182\n"
          ],
          "name": "stdout"
        }
      ]
    },
    {
      "cell_type": "markdown",
      "metadata": {
        "id": "ArdmyqTFNTfs",
        "colab_type": "text"
      },
      "source": [
        "#### Captions and HMP features combined together"
      ]
    },
    {
      "cell_type": "code",
      "metadata": {
        "id": "AQ5zILC2NYJO",
        "colab_type": "code",
        "colab": {}
      },
      "source": [
        "#Short term and long term memorability score \n",
        "Y_NN = labels[['short-term_memorability','long-term_memorability']].values\n",
        "X_NN = np.concatenate((captions,feature2), axis=1)"
      ],
      "execution_count": 0,
      "outputs": []
    },
    {
      "cell_type": "code",
      "metadata": {
        "id": "RYIhoUX3NX45",
        "colab_type": "code",
        "colab": {}
      },
      "source": [
        "#Splitting dataset into test and train set with 90:10 ratio\n",
        "X_train, X_test, Y_train, Y_test = train_test_split(X_NN,Y_NN, test_size=0.10, random_state=42)"
      ],
      "execution_count": 0,
      "outputs": []
    },
    {
      "cell_type": "code",
      "metadata": {
        "id": "E9SQGV9ONX11",
        "colab_type": "code",
        "outputId": "c01f9c95-80b9-4aae-898e-94bf7a773ebe",
        "colab": {
          "base_uri": "https://localhost:8080/",
          "height": 849
        }
      },
      "source": [
        "# adding dropout and regularizers\n",
        "model = Sequential()\n",
        "model.add(layers.Dense(30,activation='selu',kernel_regularizer=regularizers.l2(0.00001)))\n",
        "model.add(layers.Dropout(0.3))\n",
        "model.add(layers.Dense(25,activation='selu',kernel_regularizer=regularizers.l2(0.00001)))\n",
        "model.add(layers.Dropout(0.7))\n",
        "model.add(layers.Dense(2,activation='selu'))\n",
        "\n",
        "# compiling the model \n",
        "opt = optimizers.RMSprop(lr=0.0009, rho=0.89, decay=0.0)\n",
        "model.compile(optimizer=opt,loss='mse',metrics=['accuracy'])\n",
        "\n",
        "history = model.fit(X_train,Y_train,epochs=22,validation_data=(X_test,Y_test))"
      ],
      "execution_count": 0,
      "outputs": [
        {
          "output_type": "stream",
          "text": [
            "Train on 5400 samples, validate on 600 samples\n",
            "Epoch 1/22\n",
            "5400/5400 [==============================] - 2s 315us/step - loss: 0.1605 - accuracy: 0.5457 - val_loss: 0.0284 - val_accuracy: 0.6917\n",
            "Epoch 2/22\n",
            "5400/5400 [==============================] - 2s 291us/step - loss: 0.0775 - accuracy: 0.5867 - val_loss: 0.0249 - val_accuracy: 0.6850\n",
            "Epoch 3/22\n",
            "5400/5400 [==============================] - 2s 280us/step - loss: 0.0481 - accuracy: 0.6102 - val_loss: 0.0157 - val_accuracy: 0.6950\n",
            "Epoch 4/22\n",
            "5400/5400 [==============================] - 1s 262us/step - loss: 0.0320 - accuracy: 0.6589 - val_loss: 0.0143 - val_accuracy: 0.6950\n",
            "Epoch 5/22\n",
            "5400/5400 [==============================] - 1s 270us/step - loss: 0.0229 - accuracy: 0.6887 - val_loss: 0.0141 - val_accuracy: 0.6950\n",
            "Epoch 6/22\n",
            "5400/5400 [==============================] - 1s 269us/step - loss: 0.0173 - accuracy: 0.7035 - val_loss: 0.0140 - val_accuracy: 0.6950\n",
            "Epoch 7/22\n",
            "5400/5400 [==============================] - 1s 275us/step - loss: 0.0145 - accuracy: 0.7044 - val_loss: 0.0139 - val_accuracy: 0.6950\n",
            "Epoch 8/22\n",
            "5400/5400 [==============================] - 1s 275us/step - loss: 0.0134 - accuracy: 0.7037 - val_loss: 0.0139 - val_accuracy: 0.6950\n",
            "Epoch 9/22\n",
            "5400/5400 [==============================] - 1s 273us/step - loss: 0.0128 - accuracy: 0.7044 - val_loss: 0.0138 - val_accuracy: 0.6950\n",
            "Epoch 10/22\n",
            "5400/5400 [==============================] - 2s 287us/step - loss: 0.0124 - accuracy: 0.7048 - val_loss: 0.0137 - val_accuracy: 0.6950\n",
            "Epoch 11/22\n",
            "5400/5400 [==============================] - 2s 286us/step - loss: 0.0123 - accuracy: 0.7050 - val_loss: 0.0136 - val_accuracy: 0.6950\n",
            "Epoch 12/22\n",
            "5400/5400 [==============================] - 2s 286us/step - loss: 0.0121 - accuracy: 0.7044 - val_loss: 0.0138 - val_accuracy: 0.6950\n",
            "Epoch 13/22\n",
            "5400/5400 [==============================] - 2s 290us/step - loss: 0.0122 - accuracy: 0.7030 - val_loss: 0.0138 - val_accuracy: 0.6950\n",
            "Epoch 14/22\n",
            "5400/5400 [==============================] - 2s 289us/step - loss: 0.0121 - accuracy: 0.7063 - val_loss: 0.0137 - val_accuracy: 0.6950\n",
            "Epoch 15/22\n",
            "5400/5400 [==============================] - 2s 288us/step - loss: 0.0120 - accuracy: 0.7046 - val_loss: 0.0138 - val_accuracy: 0.6950\n",
            "Epoch 16/22\n",
            "5400/5400 [==============================] - 2s 281us/step - loss: 0.0119 - accuracy: 0.7065 - val_loss: 0.0138 - val_accuracy: 0.6950\n",
            "Epoch 17/22\n",
            "5400/5400 [==============================] - 2s 280us/step - loss: 0.0120 - accuracy: 0.7054 - val_loss: 0.0138 - val_accuracy: 0.6950\n",
            "Epoch 18/22\n",
            "5400/5400 [==============================] - 2s 286us/step - loss: 0.0118 - accuracy: 0.7043 - val_loss: 0.0139 - val_accuracy: 0.6950\n",
            "Epoch 19/22\n",
            "5400/5400 [==============================] - 2s 283us/step - loss: 0.0119 - accuracy: 0.7041 - val_loss: 0.0138 - val_accuracy: 0.6950\n",
            "Epoch 20/22\n",
            "5400/5400 [==============================] - 2s 287us/step - loss: 0.0119 - accuracy: 0.7069 - val_loss: 0.0139 - val_accuracy: 0.6950\n",
            "Epoch 21/22\n",
            "5400/5400 [==============================] - 2s 292us/step - loss: 0.0119 - accuracy: 0.7063 - val_loss: 0.0138 - val_accuracy: 0.6950\n",
            "Epoch 22/22\n",
            "5400/5400 [==============================] - 2s 290us/step - loss: 0.0119 - accuracy: 0.7069 - val_loss: 0.0139 - val_accuracy: 0.6950\n"
          ],
          "name": "stdout"
        }
      ]
    },
    {
      "cell_type": "code",
      "metadata": {
        "id": "Q9kLJ3pbNXzQ",
        "colab_type": "code",
        "outputId": "0c33bab5-3553-4b17-e6f2-abf10bfbfaa1",
        "colab": {
          "base_uri": "https://localhost:8080/",
          "height": 573
        }
      },
      "source": [
        "loss = history.history['loss']\n",
        "val_loss = history.history['val_loss']\n",
        "\n",
        "epochs = range(1,len(loss)+1)\n",
        "\n",
        "plt.plot(history.history['accuracy'])\n",
        "plt.plot(history.history['val_accuracy'])\n",
        "plt.title('model accuracy')\n",
        "plt.ylabel('accuracy')\n",
        "plt.xlabel('epoch')\n",
        "plt.legend(['train', 'val'])\n",
        "plt.show()\n",
        "\n",
        "plt.plot(history.history['loss'])\n",
        "plt.plot(history.history['val_loss'])\n",
        "plt.title('model loss')\n",
        "plt.ylabel('loss')\n",
        "plt.xlabel('epoch')\n",
        "plt.legend(['train', 'val'])\n",
        "plt.show()"
      ],
      "execution_count": 0,
      "outputs": [
        {
          "output_type": "display_data",
          "data": {
            "image/png": "[encoded data removed]",
            "text/plain": [
              "<Figure size 432x288 with 1 Axes>"
            ]
          },
          "metadata": {
            "tags": []
          }
        },
        {
          "output_type": "display_data",
          "data": {
            "image/png": "[encoded data removed]",
            "text/plain": [
              "<Figure size 432x288 with 1 Axes>"
            ]
          },
          "metadata": {
            "tags": []
          }
        }
      ]
    },
    {
      "cell_type": "code",
      "metadata": {
        "id": "LOI_PtP2NXx_",
        "colab_type": "code",
        "outputId": "777528bc-569f-4732-87ee-bbff0e6306f0",
        "colab": {
          "base_uri": "https://localhost:8080/",
          "height": 35
        }
      },
      "source": [
        "predictionsNN = model.predict(X_test)\n",
        "print(predictionsNN.shape)"
      ],
      "execution_count": 0,
      "outputs": [
        {
          "output_type": "stream",
          "text": [
            "(600, 2)\n"
          ],
          "name": "stdout"
        }
      ]
    },
    {
      "cell_type": "code",
      "metadata": {
        "id": "rRGJDS40NXu2",
        "colab_type": "code",
        "outputId": "ad826ee8-4def-4864-d59f-491c662fd925",
        "colab": {
          "base_uri": "https://localhost:8080/",
          "height": 54
        }
      },
      "source": [
        "Get_score(predictionsNN, Y_test)"
      ],
      "execution_count": 0,
      "outputs": [
        {
          "output_type": "stream",
          "text": [
            "The Spearman's correlation coefficient is: 0.462\n",
            "The Spearman's correlation coefficient is: 0.176\n"
          ],
          "name": "stdout"
        }
      ]
    },
    {
      "cell_type": "markdown",
      "metadata": {
        "id": "NmrIFBLUN2V6",
        "colab_type": "text"
      },
      "source": [
        "#### C3D and HMP features combined together"
      ]
    },
    {
      "cell_type": "code",
      "metadata": {
        "id": "v3Jz0wsON7n3",
        "colab_type": "code",
        "colab": {}
      },
      "source": [
        "#Short term and long term memorability score \n",
        "Y_NN = labels[['short-term_memorability','long-term_memorability']].values\n",
        "X_NN = np.concatenate((feature1,feature2), axis=1)"
      ],
      "execution_count": 0,
      "outputs": []
    },
    {
      "cell_type": "code",
      "metadata": {
        "id": "0viSQfe2N7kl",
        "colab_type": "code",
        "colab": {}
      },
      "source": [
        "#Splitting dataset into test and train set with 90:10 ratio\n",
        "X_train, X_test, Y_train, Y_test = train_test_split(X_NN,Y_NN, test_size=0.10, random_state=42)"
      ],
      "execution_count": 0,
      "outputs": []
    },
    {
      "cell_type": "code",
      "metadata": {
        "id": "oZjvVhr6N7hd",
        "colab_type": "code",
        "outputId": "a7648c65-a25b-4a24-dae8-2c6bf2827bd0",
        "colab": {
          "base_uri": "https://localhost:8080/",
          "height": 849
        }
      },
      "source": [
        "# adding dropout and regularizers\n",
        "model = Sequential()\n",
        "model.add(layers.Dense(30,activation='selu',kernel_regularizer=regularizers.l2(0.00001)))\n",
        "model.add(layers.Dropout(0.3))\n",
        "model.add(layers.Dense(25,activation='selu',kernel_regularizer=regularizers.l2(0.00001)))\n",
        "model.add(layers.Dropout(0.7))\n",
        "model.add(layers.Dense(2,activation='selu'))\n",
        "\n",
        "# compiling the model \n",
        "opt = optimizers.RMSprop(lr=0.0009, rho=0.89, decay=0.0)\n",
        "model.compile(optimizer=opt,loss='mse',metrics=['accuracy'])\n",
        "\n",
        "history = model.fit(X_train,Y_train,epochs=22,validation_data=(X_test,Y_test))"
      ],
      "execution_count": 0,
      "outputs": [
        {
          "output_type": "stream",
          "text": [
            "Train on 5400 samples, validate on 600 samples\n",
            "Epoch 1/22\n",
            "5400/5400 [==============================] - 1s 222us/step - loss: 0.1278 - accuracy: 0.5506 - val_loss: 0.0262 - val_accuracy: 0.6950\n",
            "Epoch 2/22\n",
            "5400/5400 [==============================] - 1s 188us/step - loss: 0.0643 - accuracy: 0.5783 - val_loss: 0.0168 - val_accuracy: 0.6950\n",
            "Epoch 3/22\n",
            "5400/5400 [==============================] - 1s 183us/step - loss: 0.0408 - accuracy: 0.6241 - val_loss: 0.0162 - val_accuracy: 0.6950\n",
            "Epoch 4/22\n",
            "5400/5400 [==============================] - 1s 188us/step - loss: 0.0292 - accuracy: 0.6735 - val_loss: 0.0146 - val_accuracy: 0.6950\n",
            "Epoch 5/22\n",
            "5400/5400 [==============================] - 1s 189us/step - loss: 0.0219 - accuracy: 0.6998 - val_loss: 0.0146 - val_accuracy: 0.6950\n",
            "Epoch 6/22\n",
            "5400/5400 [==============================] - 1s 184us/step - loss: 0.0175 - accuracy: 0.7061 - val_loss: 0.0148 - val_accuracy: 0.6950\n",
            "Epoch 7/22\n",
            "5400/5400 [==============================] - 1s 189us/step - loss: 0.0153 - accuracy: 0.7061 - val_loss: 0.0145 - val_accuracy: 0.6950\n",
            "Epoch 8/22\n",
            "5400/5400 [==============================] - 1s 186us/step - loss: 0.0144 - accuracy: 0.7059 - val_loss: 0.0143 - val_accuracy: 0.6950\n",
            "Epoch 9/22\n",
            "5400/5400 [==============================] - 1s 179us/step - loss: 0.0139 - accuracy: 0.7059 - val_loss: 0.0143 - val_accuracy: 0.6950\n",
            "Epoch 10/22\n",
            "5400/5400 [==============================] - 1s 185us/step - loss: 0.0136 - accuracy: 0.7056 - val_loss: 0.0143 - val_accuracy: 0.6950\n",
            "Epoch 11/22\n",
            "5400/5400 [==============================] - 1s 183us/step - loss: 0.0136 - accuracy: 0.7059 - val_loss: 0.0143 - val_accuracy: 0.6950\n",
            "Epoch 12/22\n",
            "5400/5400 [==============================] - 1s 185us/step - loss: 0.0135 - accuracy: 0.7059 - val_loss: 0.0142 - val_accuracy: 0.6950\n",
            "Epoch 13/22\n",
            "5400/5400 [==============================] - 1s 189us/step - loss: 0.0134 - accuracy: 0.7059 - val_loss: 0.0145 - val_accuracy: 0.6950\n",
            "Epoch 14/22\n",
            "5400/5400 [==============================] - 1s 188us/step - loss: 0.0133 - accuracy: 0.7059 - val_loss: 0.0143 - val_accuracy: 0.6950\n",
            "Epoch 15/22\n",
            "5400/5400 [==============================] - 1s 186us/step - loss: 0.0134 - accuracy: 0.7059 - val_loss: 0.0142 - val_accuracy: 0.6950\n",
            "Epoch 16/22\n",
            "5400/5400 [==============================] - 1s 184us/step - loss: 0.0133 - accuracy: 0.7059 - val_loss: 0.0141 - val_accuracy: 0.6950\n",
            "Epoch 17/22\n",
            "5400/5400 [==============================] - 1s 188us/step - loss: 0.0132 - accuracy: 0.7059 - val_loss: 0.0141 - val_accuracy: 0.6950\n",
            "Epoch 18/22\n",
            "5400/5400 [==============================] - 1s 187us/step - loss: 0.0133 - accuracy: 0.7059 - val_loss: 0.0141 - val_accuracy: 0.6950\n",
            "Epoch 19/22\n",
            "5400/5400 [==============================] - 1s 188us/step - loss: 0.0133 - accuracy: 0.7059 - val_loss: 0.0143 - val_accuracy: 0.6950\n",
            "Epoch 20/22\n",
            "5400/5400 [==============================] - 1s 190us/step - loss: 0.0131 - accuracy: 0.7059 - val_loss: 0.0142 - val_accuracy: 0.6950\n",
            "Epoch 21/22\n",
            "5400/5400 [==============================] - 1s 192us/step - loss: 0.0132 - accuracy: 0.7059 - val_loss: 0.0142 - val_accuracy: 0.6950\n",
            "Epoch 22/22\n",
            "5400/5400 [==============================] - 1s 185us/step - loss: 0.0132 - accuracy: 0.7059 - val_loss: 0.0142 - val_accuracy: 0.6950\n"
          ],
          "name": "stdout"
        }
      ]
    },
    {
      "cell_type": "code",
      "metadata": {
        "id": "hhJsaKDMN7f5",
        "colab_type": "code",
        "outputId": "64a1841a-c2e3-4c23-8a7f-65c0743f3cc8",
        "colab": {
          "base_uri": "https://localhost:8080/",
          "height": 573
        }
      },
      "source": [
        "loss = history.history['loss']\n",
        "val_loss = history.history['val_loss']\n",
        "\n",
        "epochs = range(1,len(loss)+1)\n",
        "\n",
        "plt.plot(history.history['accuracy'])\n",
        "plt.plot(history.history['val_accuracy'])\n",
        "plt.title('model accuracy')\n",
        "plt.ylabel('accuracy')\n",
        "plt.xlabel('epoch')\n",
        "plt.legend(['train', 'val'])\n",
        "plt.show()\n",
        "\n",
        "plt.plot(history.history['loss'])\n",
        "plt.plot(history.history['val_loss'])\n",
        "plt.title('model loss')\n",
        "plt.ylabel('loss')\n",
        "plt.xlabel('epoch')\n",
        "plt.legend(['train', 'val'])\n",
        "plt.show()"
      ],
      "execution_count": 0,
      "outputs": [
        {
          "output_type": "display_data",
          "data": {
            "image/png": "[encoded data removed]",
            "text/plain": [
              "<Figure size 432x288 with 1 Axes>"
            ]
          },
          "metadata": {
            "tags": []
          }
        },
        {
          "output_type": "display_data",
          "data": {
            "image/png": "[encoded data removed]",
            "text/plain": [
              "<Figure size 432x288 with 1 Axes>"
            ]
          },
          "metadata": {
            "tags": []
          }
        }
      ]
    },
    {
      "cell_type": "code",
      "metadata": {
        "id": "WSNWU7q_N7c4",
        "colab_type": "code",
        "outputId": "4a388248-6b59-4765-9ef9-9c041dc17681",
        "colab": {
          "base_uri": "https://localhost:8080/",
          "height": 35
        }
      },
      "source": [
        "predictionsNN = model.predict(X_test)\n",
        "print(predictionsNN.shape)"
      ],
      "execution_count": 0,
      "outputs": [
        {
          "output_type": "stream",
          "text": [
            "(600, 2)\n"
          ],
          "name": "stdout"
        }
      ]
    },
    {
      "cell_type": "code",
      "metadata": {
        "id": "hx6z3x9QN7Zr",
        "colab_type": "code",
        "outputId": "0d8a388d-739f-4bed-9b45-83961036f5cf",
        "colab": {
          "base_uri": "https://localhost:8080/",
          "height": 54
        }
      },
      "source": [
        "Get_score(predictionsNN, Y_test)"
      ],
      "execution_count": 0,
      "outputs": [
        {
          "output_type": "stream",
          "text": [
            "The Spearman's correlation coefficient is: 0.312\n",
            "The Spearman's correlation coefficient is: 0.149\n"
          ],
          "name": "stdout"
        }
      ]
    },
    {
      "cell_type": "markdown",
      "metadata": {
        "id": "DTEllfNdLDEX",
        "colab_type": "text"
      },
      "source": [
        "#### C3D + HMP + Captions"
      ]
    },
    {
      "cell_type": "code",
      "metadata": {
        "id": "v8UgGaf4B1_p",
        "colab_type": "code",
        "colab": {}
      },
      "source": [
        "#Short term and long term memorability score \n",
        "Y_NN = labels[['short-term_memorability','long-term_memorability']].values\n",
        "X_NN = np.concatenate((feature1,feature2,captions), axis=1)"
      ],
      "execution_count": 0,
      "outputs": []
    },
    {
      "cell_type": "code",
      "metadata": {
        "id": "F9AqF78BCjEJ",
        "colab_type": "code",
        "colab": {}
      },
      "source": [
        "#Splitting dataset into test and train set with 90:10 ratio\n",
        "X_train, X_test, Y_train, Y_test = train_test_split(X_NN,Y_NN, test_size=0.10, random_state=42)"
      ],
      "execution_count": 0,
      "outputs": []
    },
    {
      "cell_type": "code",
      "metadata": {
        "id": "LP9hiu7tCpKZ",
        "colab_type": "code",
        "outputId": "3f5d953b-ecfd-47a6-f165-227984232636",
        "colab": {
          "base_uri": "https://localhost:8080/",
          "height": 849
        }
      },
      "source": [
        "# adding dropout and regularizers\n",
        "model = Sequential()\n",
        "model.add(layers.Dense(30,activation='selu',kernel_regularizer=regularizers.l2(0.00001)))\n",
        "model.add(layers.Dropout(0.3))\n",
        "model.add(layers.Dense(25,activation='selu',kernel_regularizer=regularizers.l2(0.00001)))\n",
        "model.add(layers.Dropout(0.7))\n",
        "model.add(layers.Dense(2,activation='selu'))\n",
        "\n",
        "# compiling the model \n",
        "opt = optimizers.RMSprop(lr=0.0009, rho=0.89, decay=0.0)\n",
        "model.compile(optimizer=opt,loss='mse',metrics=['accuracy'])\n",
        "\n",
        "history = model.fit(X_train,Y_train,epochs=22,validation_data=(X_test,Y_test))"
      ],
      "execution_count": 0,
      "outputs": [
        {
          "output_type": "stream",
          "text": [
            "Train on 5400 samples, validate on 600 samples\n",
            "Epoch 1/22\n",
            "5400/5400 [==============================] - 2s 340us/step - loss: 0.1757 - accuracy: 0.5144 - val_loss: 0.0424 - val_accuracy: 0.6617\n",
            "Epoch 2/22\n",
            "5400/5400 [==============================] - 2s 304us/step - loss: 0.0833 - accuracy: 0.5691 - val_loss: 0.0217 - val_accuracy: 0.6917\n",
            "Epoch 3/22\n",
            "5400/5400 [==============================] - 2s 292us/step - loss: 0.0490 - accuracy: 0.6089 - val_loss: 0.0170 - val_accuracy: 0.6917\n",
            "Epoch 4/22\n",
            "5400/5400 [==============================] - 2s 294us/step - loss: 0.0324 - accuracy: 0.6470 - val_loss: 0.0149 - val_accuracy: 0.6950\n",
            "Epoch 5/22\n",
            "5400/5400 [==============================] - 2s 302us/step - loss: 0.0227 - accuracy: 0.6850 - val_loss: 0.0143 - val_accuracy: 0.6950\n",
            "Epoch 6/22\n",
            "5400/5400 [==============================] - 2s 299us/step - loss: 0.0169 - accuracy: 0.7043 - val_loss: 0.0138 - val_accuracy: 0.6950\n",
            "Epoch 7/22\n",
            "5400/5400 [==============================] - 2s 297us/step - loss: 0.0142 - accuracy: 0.7035 - val_loss: 0.0136 - val_accuracy: 0.6950\n",
            "Epoch 8/22\n",
            "5400/5400 [==============================] - 2s 293us/step - loss: 0.0131 - accuracy: 0.7033 - val_loss: 0.0138 - val_accuracy: 0.6950\n",
            "Epoch 9/22\n",
            "5400/5400 [==============================] - 2s 301us/step - loss: 0.0125 - accuracy: 0.7043 - val_loss: 0.0137 - val_accuracy: 0.6950\n",
            "Epoch 10/22\n",
            "5400/5400 [==============================] - 2s 297us/step - loss: 0.0123 - accuracy: 0.7039 - val_loss: 0.0137 - val_accuracy: 0.6950\n",
            "Epoch 11/22\n",
            "5400/5400 [==============================] - 2s 295us/step - loss: 0.0122 - accuracy: 0.7046 - val_loss: 0.0137 - val_accuracy: 0.6950\n",
            "Epoch 12/22\n",
            "5400/5400 [==============================] - 2s 308us/step - loss: 0.0120 - accuracy: 0.7076 - val_loss: 0.0137 - val_accuracy: 0.6950\n",
            "Epoch 13/22\n",
            "5400/5400 [==============================] - 2s 293us/step - loss: 0.0119 - accuracy: 0.7061 - val_loss: 0.0137 - val_accuracy: 0.6950\n",
            "Epoch 14/22\n",
            "5400/5400 [==============================] - 2s 296us/step - loss: 0.0119 - accuracy: 0.7043 - val_loss: 0.0139 - val_accuracy: 0.6950\n",
            "Epoch 15/22\n",
            "5400/5400 [==============================] - 2s 295us/step - loss: 0.0119 - accuracy: 0.7054 - val_loss: 0.0138 - val_accuracy: 0.6933\n",
            "Epoch 16/22\n",
            "5400/5400 [==============================] - 2s 296us/step - loss: 0.0118 - accuracy: 0.7067 - val_loss: 0.0138 - val_accuracy: 0.6950\n",
            "Epoch 17/22\n",
            "5400/5400 [==============================] - 2s 297us/step - loss: 0.0119 - accuracy: 0.7035 - val_loss: 0.0138 - val_accuracy: 0.6950\n",
            "Epoch 18/22\n",
            "5400/5400 [==============================] - 2s 294us/step - loss: 0.0118 - accuracy: 0.7067 - val_loss: 0.0138 - val_accuracy: 0.6950\n",
            "Epoch 19/22\n",
            "5400/5400 [==============================] - 2s 289us/step - loss: 0.0119 - accuracy: 0.7070 - val_loss: 0.0138 - val_accuracy: 0.6933\n",
            "Epoch 20/22\n",
            "5400/5400 [==============================] - 2s 291us/step - loss: 0.0118 - accuracy: 0.7050 - val_loss: 0.0138 - val_accuracy: 0.6950\n",
            "Epoch 21/22\n",
            "5400/5400 [==============================] - 2s 294us/step - loss: 0.0119 - accuracy: 0.7046 - val_loss: 0.0138 - val_accuracy: 0.6950\n",
            "Epoch 22/22\n",
            "5400/5400 [==============================] - 2s 286us/step - loss: 0.0117 - accuracy: 0.7052 - val_loss: 0.0137 - val_accuracy: 0.6917\n"
          ],
          "name": "stdout"
        }
      ]
    },
    {
      "cell_type": "code",
      "metadata": {
        "id": "kXjQ2nD7Czeh",
        "colab_type": "code",
        "outputId": "40ffecec-5e0b-46e1-fc9a-0a4d33e68f05",
        "colab": {
          "base_uri": "https://localhost:8080/",
          "height": 573
        }
      },
      "source": [
        "loss = history.history['loss']\n",
        "val_loss = history.history['val_loss']\n",
        "\n",
        "epochs = range(1,len(loss)+1)\n",
        "\n",
        "plt.plot(history.history['accuracy'])\n",
        "plt.plot(history.history['val_accuracy'])\n",
        "plt.title('model accuracy')\n",
        "plt.ylabel('accuracy')\n",
        "plt.xlabel('epoch')\n",
        "plt.legend(['train', 'val'])\n",
        "plt.show()\n",
        "\n",
        "plt.plot(history.history['loss'])\n",
        "plt.plot(history.history['val_loss'])\n",
        "plt.title('model loss')\n",
        "plt.ylabel('loss')\n",
        "plt.xlabel('epoch')\n",
        "plt.legend(['train', 'val'])\n",
        "plt.show()"
      ],
      "execution_count": 0,
      "outputs": [
        {
          "output_type": "display_data",
          "data": {
            "image/png": "[encoded data removed]",
            "text/plain": [
              "<Figure size 432x288 with 1 Axes>"
            ]
          },
          "metadata": {
            "tags": []
          }
        },
        {
          "output_type": "display_data",
          "data": {
            "image/png": "[encoded data removed]",
            "text/plain": [
              "<Figure size 432x288 with 1 Axes>"
            ]
          },
          "metadata": {
            "tags": []
          }
        }
      ]
    },
    {
      "cell_type": "code",
      "metadata": {
        "id": "DacFX3eTD_QU",
        "colab_type": "code",
        "outputId": "627a626c-0ccc-4311-cd59-8270c12e9fd5",
        "colab": {
          "base_uri": "https://localhost:8080/",
          "height": 35
        }
      },
      "source": [
        "predictionsNN = model.predict(X_test)\n",
        "print(predictionsNN.shape)"
      ],
      "execution_count": 0,
      "outputs": [
        {
          "output_type": "stream",
          "text": [
            "(600, 2)\n"
          ],
          "name": "stdout"
        }
      ]
    },
    {
      "cell_type": "code",
      "metadata": {
        "id": "gdJy9AmgEUPu",
        "colab_type": "code",
        "outputId": "5698b40b-0c7e-4f09-f8b6-a4868586cf6c",
        "colab": {
          "base_uri": "https://localhost:8080/",
          "height": 54
        }
      },
      "source": [
        "Get_score(predictionsNN, Y_test)"
      ],
      "execution_count": 0,
      "outputs": [
        {
          "output_type": "stream",
          "text": [
            "The Spearman's correlation coefficient is: 0.465\n",
            "The Spearman's correlation coefficient is: 0.204\n"
          ],
          "name": "stdout"
        }
      ]
    },
    {
      "cell_type": "markdown",
      "metadata": {
        "id": "5j7dsEb_mAMr",
        "colab_type": "text"
      },
      "source": [
        "### Regression Techniques\n",
        "\n",
        "\n",
        "> As we have seen in the Neural Network section we can choose the feature we need and load it into out 'X' Variabel\n",
        "*    To reduce the code I will be exhibiting the model with best results among the features \n",
        "\n",
        "You are free to change the features if need be, please see the R-CNN section above for the code snippet.\n",
        "\n"
      ]
    },
    {
      "cell_type": "markdown",
      "metadata": {
        "id": "zD94YiqUqsQh",
        "colab_type": "text"
      },
      "source": [
        "#### Linear Regression"
      ]
    },
    {
      "cell_type": "code",
      "metadata": {
        "id": "memKeUY1qyIJ",
        "colab_type": "code",
        "colab": {}
      },
      "source": [
        "#Short term and long term memorability score \n",
        "Y_LR = labels[['short-term_memorability','long-term_memorability']].values\n",
        "X_LR = feature1"
      ],
      "execution_count": 0,
      "outputs": []
    },
    {
      "cell_type": "code",
      "metadata": {
        "id": "wR2s4s-3sfwQ",
        "colab_type": "code",
        "colab": {}
      },
      "source": [
        "#Splitting dataset into test and train set with 90:10 ratio\n",
        "X_train, X_test, Y_train, Y_test = train_test_split(X_LR,Y_LR, test_size=0.20, random_state=42)"
      ],
      "execution_count": 0,
      "outputs": []
    },
    {
      "cell_type": "code",
      "metadata": {
        "id": "_th_Jd2HsftM",
        "colab_type": "code",
        "colab": {}
      },
      "source": [
        "from sklearn.linear_model import LinearRegression\n",
        "\n",
        "#Creating A Linear Regression Model\n",
        "lr = LinearRegression(normalize=True)\n",
        "\n",
        "#Training the model\n",
        "history = lr.fit(X_train,Y_train)"
      ],
      "execution_count": 0,
      "outputs": []
    },
    {
      "cell_type": "code",
      "metadata": {
        "id": "rp6GHGgYsfqt",
        "colab_type": "code",
        "outputId": "51a24c36-08f5-4b9f-8584-0a0815235164",
        "colab": {
          "base_uri": "https://localhost:8080/",
          "height": 35
        }
      },
      "source": [
        "predictionsLR = lr.predict(X_test)\n",
        "print(predictionsLR.shape)"
      ],
      "execution_count": 0,
      "outputs": [
        {
          "output_type": "stream",
          "text": [
            "(1200, 2)\n"
          ],
          "name": "stdout"
        }
      ]
    },
    {
      "cell_type": "code",
      "metadata": {
        "id": "rDrC1X7nsfnq",
        "colab_type": "code",
        "outputId": "580ab515-940b-4deb-80eb-765b7f00b2e7",
        "colab": {
          "base_uri": "https://localhost:8080/",
          "height": 54
        }
      },
      "source": [
        "Get_score(predictionsLR, Y_test)"
      ],
      "execution_count": 0,
      "outputs": [
        {
          "output_type": "stream",
          "text": [
            "The Spearman's correlation coefficient is: 0.277\n",
            "The Spearman's correlation coefficient is: 0.103\n"
          ],
          "name": "stdout"
        }
      ]
    },
    {
      "cell_type": "markdown",
      "metadata": {
        "id": "bAbjZ5HZuzCy",
        "colab_type": "text"
      },
      "source": [
        "#### Support Vector Regression -- SVR"
      ]
    },
    {
      "cell_type": "markdown",
      "metadata": {
        "id": "g2UmD47AzIhC",
        "colab_type": "text"
      },
      "source": [
        "###### Short Term Memorability"
      ]
    },
    {
      "cell_type": "code",
      "metadata": {
        "id": "Lq8jXZo4u1_b",
        "colab_type": "code",
        "colab": {}
      },
      "source": [
        "from sklearn.svm import SVR"
      ],
      "execution_count": 0,
      "outputs": []
    },
    {
      "cell_type": "code",
      "metadata": {
        "id": "4-73vC8qu18S",
        "colab_type": "code",
        "colab": {}
      },
      "source": [
        "Y_short = labels[['short-term_memorability']].values\n",
        "X_SVR = np.concatenate((feature1,feature2,captions), axis=1)"
      ],
      "execution_count": 0,
      "outputs": []
    },
    {
      "cell_type": "code",
      "metadata": {
        "id": "EU58BPpEu15V",
        "colab_type": "code",
        "colab": {}
      },
      "source": [
        "#Splitting dataset into test and train set with 90:10 ratio\n",
        "X_train, X_test, Y_train_short, Y_test_short = train_test_split(X_SVR,Y_short, test_size=0.1, random_state=42)"
      ],
      "execution_count": 0,
      "outputs": []
    },
    {
      "cell_type": "code",
      "metadata": {
        "id": "k1Pz0JIDu12Z",
        "colab_type": "code",
        "outputId": "11f66097-903c-45ac-d02c-459131e2362f",
        "colab": {
          "base_uri": "https://localhost:8080/",
          "height": 36
        }
      },
      "source": [
        "print(len(X_SVR),Y_short.shape)"
      ],
      "execution_count": 0,
      "outputs": [
        {
          "output_type": "stream",
          "text": [
            "6000 (6000, 1)\n"
          ],
          "name": "stdout"
        }
      ]
    },
    {
      "cell_type": "code",
      "metadata": {
        "id": "we6T9B_Nu1m0",
        "colab_type": "code",
        "outputId": "9a581d33-0edf-4287-f10b-be5d3b0ad091",
        "colab": {
          "base_uri": "https://localhost:8080/",
          "height": 74
        }
      },
      "source": [
        "#Creating an SVR model\n",
        "modelSVR_short = SVR(C=100).fit(X_train,Y_train_short)"
      ],
      "execution_count": 0,
      "outputs": [
        {
          "output_type": "stream",
          "text": [
            "/usr/local/lib/python3.6/dist-packages/sklearn/utils/validation.py:760: DataConversionWarning: A column-vector y was passed when a 1d array was expected. Please change the shape of y to (n_samples, ), for example using ravel().\n",
            "  y = column_or_1d(y, warn=True)\n"
          ],
          "name": "stderr"
        }
      ]
    },
    {
      "cell_type": "code",
      "metadata": {
        "id": "STvmSeoBwIdV",
        "colab_type": "code",
        "colab": {}
      },
      "source": [
        "predictionsSVR_short = modelSVR_short.predict(X_test)"
      ],
      "execution_count": 0,
      "outputs": []
    },
    {
      "cell_type": "code",
      "metadata": {
        "id": "XfGKlS-twIZr",
        "colab_type": "code",
        "outputId": "1bb2d390-11c6-42dd-f7b1-f7667d430dc9",
        "colab": {
          "base_uri": "https://localhost:8080/",
          "height": 36
        }
      },
      "source": [
        "Get_score(predictionsSVR_short,Y_test_short)"
      ],
      "execution_count": 0,
      "outputs": [
        {
          "output_type": "stream",
          "text": [
            "The Spearman's correlation coefficient is: 0.467\n"
          ],
          "name": "stdout"
        }
      ]
    },
    {
      "cell_type": "markdown",
      "metadata": {
        "id": "t1P6_U6qzkHT",
        "colab_type": "text"
      },
      "source": [
        "###### Long Term Memorability"
      ]
    },
    {
      "cell_type": "code",
      "metadata": {
        "id": "mmaKy08qzvdS",
        "colab_type": "code",
        "colab": {}
      },
      "source": [
        "from sklearn.svm import SVR"
      ],
      "execution_count": 0,
      "outputs": []
    },
    {
      "cell_type": "code",
      "metadata": {
        "id": "jtLOoL1BzyEr",
        "colab_type": "code",
        "colab": {}
      },
      "source": [
        "Y_long = labels[['long-term_memorability']].values\n",
        "X_SVR = np.concatenate((feature1,captions,feature2), axis=1)"
      ],
      "execution_count": 0,
      "outputs": []
    },
    {
      "cell_type": "code",
      "metadata": {
        "id": "EdQj6zPezx4n",
        "colab_type": "code",
        "colab": {}
      },
      "source": [
        "#Splitting dataset into test and train set with 90:10 ratio\n",
        "X_train, X_test, Y_train_long, Y_test_long = train_test_split(X_SVR,Y_long, test_size=0.1, random_state=42)"
      ],
      "execution_count": 0,
      "outputs": []
    },
    {
      "cell_type": "code",
      "metadata": {
        "id": "fWl6MSgvzx1Q",
        "colab_type": "code",
        "outputId": "bda897ba-98ae-43a7-dce1-814c6460bcf8",
        "colab": {
          "base_uri": "https://localhost:8080/",
          "height": 36
        }
      },
      "source": [
        "print(len(X_SVR),Y_short.shape)"
      ],
      "execution_count": 0,
      "outputs": [
        {
          "output_type": "stream",
          "text": [
            "6000 (6000, 1)\n"
          ],
          "name": "stdout"
        }
      ]
    },
    {
      "cell_type": "code",
      "metadata": {
        "id": "RSJtZG-9zxyr",
        "colab_type": "code",
        "outputId": "5fe4fe88-3f8f-40b0-e29b-f6079f655a44",
        "colab": {
          "base_uri": "https://localhost:8080/",
          "height": 74
        }
      },
      "source": [
        "modelSVR_long = SVR(C=100).fit(X_train,Y_train_long)"
      ],
      "execution_count": 0,
      "outputs": [
        {
          "output_type": "stream",
          "text": [
            "/usr/local/lib/python3.6/dist-packages/sklearn/utils/validation.py:760: DataConversionWarning: A column-vector y was passed when a 1d array was expected. Please change the shape of y to (n_samples, ), for example using ravel().\n",
            "  y = column_or_1d(y, warn=True)\n"
          ],
          "name": "stderr"
        }
      ]
    },
    {
      "cell_type": "code",
      "metadata": {
        "id": "WEGHY4c-zxvk",
        "colab_type": "code",
        "colab": {}
      },
      "source": [
        "predictionsSVR_long = modelSVR_long.predict(X_test)"
      ],
      "execution_count": 0,
      "outputs": []
    },
    {
      "cell_type": "code",
      "metadata": {
        "id": "zggZgO5Dzxsg",
        "colab_type": "code",
        "outputId": "007d2dde-cac0-4885-edc7-a781f154827d",
        "colab": {
          "base_uri": "https://localhost:8080/",
          "height": 36
        }
      },
      "source": [
        "Get_score(predictionsSVR_long,Y_test_long)"
      ],
      "execution_count": 0,
      "outputs": [
        {
          "output_type": "stream",
          "text": [
            "The Spearman's correlation coefficient is: 0.150\n"
          ],
          "name": "stdout"
        }
      ]
    },
    {
      "cell_type": "markdown",
      "metadata": {
        "id": "nlL-QhdTOrhj",
        "colab_type": "text"
      },
      "source": [
        "#### Regid Regression"
      ]
    },
    {
      "cell_type": "code",
      "metadata": {
        "id": "I7cvxqxVEWTx",
        "colab_type": "code",
        "colab": {}
      },
      "source": [
        "Y_NN = labels[['short-term_memorability','long-term_memorability']].values\n",
        "X_NN =np.concatenate((captions,feature1,feature2), axis=1)"
      ],
      "execution_count": 0,
      "outputs": []
    },
    {
      "cell_type": "code",
      "metadata": {
        "id": "n2hcTfm0HVF3",
        "colab_type": "code",
        "colab": {}
      },
      "source": [
        "#Splitting dataset into test and train set with 90:10 ratio\n",
        "X_train, X_test, Y_train, Y_test = train_test_split(X_NN,Y_NN, test_size=0.10, random_state=42)"
      ],
      "execution_count": 0,
      "outputs": []
    },
    {
      "cell_type": "code",
      "metadata": {
        "id": "3FZtGOScchTu",
        "colab_type": "code",
        "outputId": "9ebcd612-ec55-4d73-8c30-653e5015b572",
        "colab": {
          "base_uri": "https://localhost:8080/",
          "height": 35
        }
      },
      "source": [
        "print(X_train.shape,Y_train.shape)"
      ],
      "execution_count": 0,
      "outputs": [
        {
          "output_type": "stream",
          "text": [
            "(5400, 11274) (5400, 2)\n"
          ],
          "name": "stdout"
        }
      ]
    },
    {
      "cell_type": "code",
      "metadata": {
        "id": "gK0oU92MO0Ia",
        "colab_type": "code",
        "colab": {}
      },
      "source": [
        "from sklearn.linear_model import Ridge\n",
        "clf = Ridge()\n",
        "\n",
        "#Creating an Rigid Regression Model \n",
        "clf.set_params(alpha=45)\n",
        "model = clf.fit(X_train, Y_train) "
      ],
      "execution_count": 0,
      "outputs": []
    },
    {
      "cell_type": "code",
      "metadata": {
        "id": "IrVkEOhoO3JF",
        "colab_type": "code",
        "colab": {}
      },
      "source": [
        "predictionsRR = model.predict(X_test)"
      ],
      "execution_count": 0,
      "outputs": []
    },
    {
      "cell_type": "code",
      "metadata": {
        "id": "g8a3ndnVV7c4",
        "colab_type": "code",
        "outputId": "b43d71fd-b5ac-4086-8d45-ed0a3e1744a7",
        "colab": {
          "base_uri": "https://localhost:8080/",
          "height": 35
        }
      },
      "source": [
        "predictionsRR.shape"
      ],
      "execution_count": 0,
      "outputs": [
        {
          "output_type": "execute_result",
          "data": {
            "text/plain": [
              "(600, 2)"
            ]
          },
          "metadata": {
            "tags": []
          },
          "execution_count": 293
        }
      ]
    },
    {
      "cell_type": "code",
      "metadata": {
        "id": "BjWFRnwTO5V5",
        "colab_type": "code",
        "outputId": "acbd5976-17f4-417e-d970-7210697e919b",
        "colab": {
          "base_uri": "https://localhost:8080/",
          "height": 54
        }
      },
      "source": [
        "Get_score(predictionsRR, Y_test)"
      ],
      "execution_count": 0,
      "outputs": [
        {
          "output_type": "stream",
          "text": [
            "The Spearman's correlation coefficient is: 0.488\n",
            "The Spearman's correlation coefficient is: 0.204\n"
          ],
          "name": "stdout"
        }
      ]
    },
    {
      "cell_type": "markdown",
      "metadata": {
        "id": "GTByZEJz4W2h",
        "colab_type": "text"
      },
      "source": [
        "#### Random Forest"
      ]
    },
    {
      "cell_type": "code",
      "metadata": {
        "id": "3ofaKs734dho",
        "colab_type": "code",
        "colab": {}
      },
      "source": [
        "from sklearn.ensemble import RandomForestRegressor"
      ],
      "execution_count": 0,
      "outputs": []
    },
    {
      "cell_type": "code",
      "metadata": {
        "id": "w9mKdo6U4dea",
        "colab_type": "code",
        "colab": {}
      },
      "source": [
        "#Short term and long term memorability score \n",
        "Y_RF = labels[['short-term_memorability','long-term_memorability']].values\n",
        "X_RF = np.concatenate((feature1,feature2,captions), axis=1)"
      ],
      "execution_count": 0,
      "outputs": []
    },
    {
      "cell_type": "code",
      "metadata": {
        "id": "OpSIYmmA4dba",
        "colab_type": "code",
        "outputId": "1c9056e9-61e3-4cee-85fa-e8c7d7a929ce",
        "colab": {
          "base_uri": "https://localhost:8080/",
          "height": 576
        }
      },
      "source": [
        "#Splitting dataset into test and train set with 90:10 ratio\n",
        "X_train, X_test, Y_train, Y_test = train_test_split(X_RF,Y_RF, test_size=0.10, random_state=42)\n",
        "\n",
        "#setting parameters for Random Forest\n",
        "rf = RandomForestRegressor(n_estimators=20,max_depth=10,random_state=50,verbose=2)\n",
        "\n",
        "#training dataset\n",
        "rf.fit(X_train,Y_train)\n",
        "\n",
        "print(rf.decision_path(X_train))"
      ],
      "execution_count": 0,
      "outputs": [
        {
          "output_type": "stream",
          "text": [
            "[Parallel(n_jobs=1)]: Using backend SequentialBackend with 1 concurrent workers.\n"
          ],
          "name": "stderr"
        },
        {
          "output_type": "stream",
          "text": [
            "building tree 1 of 20\n"
          ],
          "name": "stdout"
        },
        {
          "output_type": "stream",
          "text": [
            "[Parallel(n_jobs=1)]: Done   1 out of   1 | elapsed:    9.1s remaining:    0.0s\n"
          ],
          "name": "stderr"
        },
        {
          "output_type": "stream",
          "text": [
            "building tree 2 of 20\n",
            "building tree 3 of 20\n",
            "building tree 4 of 20\n",
            "building tree 5 of 20\n",
            "building tree 6 of 20\n",
            "building tree 7 of 20\n",
            "building tree 8 of 20\n",
            "building tree 9 of 20\n",
            "building tree 10 of 20\n",
            "building tree 11 of 20\n",
            "building tree 12 of 20\n",
            "building tree 13 of 20\n",
            "building tree 14 of 20\n",
            "building tree 15 of 20\n",
            "building tree 16 of 20\n",
            "building tree 17 of 20\n",
            "building tree 18 of 20\n",
            "building tree 19 of 20\n",
            "building tree 20 of 20\n"
          ],
          "name": "stdout"
        },
        {
          "output_type": "stream",
          "text": [
            "[Parallel(n_jobs=1)]: Done  20 out of  20 | elapsed:  2.9min finished\n",
            "[Parallel(n_jobs=1)]: Using backend SequentialBackend with 1 concurrent workers.\n",
            "[Parallel(n_jobs=1)]: Done   1 out of   1 | elapsed:    0.0s remaining:    0.0s\n",
            "[Parallel(n_jobs=1)]: Done  20 out of  20 | elapsed:    0.0s finished\n"
          ],
          "name": "stderr"
        },
        {
          "output_type": "stream",
          "text": [
            "(<5400x11378 sparse matrix of type '<class 'numpy.longlong'>'\n",
            "\twith 1180799 stored elements in Compressed Sparse Row format>, array([    0,   445,  1096,  1759,  2270,  2945,  3546,  4151,  4504,\n",
            "        4899,  5346,  5903,  6542,  7127,  7804,  8339,  8912,  9393,\n",
            "       10076, 10607, 11378]))\n"
          ],
          "name": "stdout"
        }
      ]
    },
    {
      "cell_type": "code",
      "metadata": {
        "id": "i_zpWhsG4dYi",
        "colab_type": "code",
        "outputId": "5f9fa729-ee1b-4c1a-efeb-8f4014f8d74a",
        "colab": {
          "base_uri": "https://localhost:8080/",
          "height": 91
        }
      },
      "source": [
        "predictionsRF = rf.predict(X_test)\n",
        "print(predictionsRF.shape)"
      ],
      "execution_count": 0,
      "outputs": [
        {
          "output_type": "stream",
          "text": [
            "(600, 2)\n"
          ],
          "name": "stdout"
        },
        {
          "output_type": "stream",
          "text": [
            "[Parallel(n_jobs=1)]: Using backend SequentialBackend with 1 concurrent workers.\n",
            "[Parallel(n_jobs=1)]: Done   1 out of   1 | elapsed:    0.0s remaining:    0.0s\n",
            "[Parallel(n_jobs=1)]: Done  20 out of  20 | elapsed:    0.0s finished\n"
          ],
          "name": "stderr"
        }
      ]
    },
    {
      "cell_type": "code",
      "metadata": {
        "id": "j-p1a-_54dVU",
        "colab_type": "code",
        "outputId": "d74699ba-7a25-4035-c6cd-9c035d9bda23",
        "colab": {
          "base_uri": "https://localhost:8080/",
          "height": 54
        }
      },
      "source": [
        "Get_score(predictionsRF,Y_test)"
      ],
      "execution_count": 0,
      "outputs": [
        {
          "output_type": "stream",
          "text": [
            "The Spearman's correlation coefficient is: 0.329\n",
            "The Spearman's correlation coefficient is: 0.135\n"
          ],
          "name": "stdout"
        }
      ]
    },
    {
      "cell_type": "markdown",
      "metadata": {
        "id": "Vaf5sYrfQ7SL",
        "colab_type": "text"
      },
      "source": [
        "### Stacked Regression - Ensamble approach\n",
        "> ensemble approach using\n",
        "SVR, Decision Tree’s and Linear Regression as base\n",
        "classifiers and Rigid Linear Regression as the final\n",
        "estimator."
      ]
    },
    {
      "cell_type": "markdown",
      "metadata": {
        "id": "XOMEOBMtiXMR",
        "colab_type": "text"
      },
      "source": [
        "#### Short Term Memorability Score"
      ]
    },
    {
      "cell_type": "code",
      "metadata": {
        "id": "Kj6yPALVZzPl",
        "colab_type": "code",
        "colab": {}
      },
      "source": [
        "from sklearn.linear_model import RidgeCV\n",
        "from sklearn.svm import LinearSVR\n",
        "from sklearn.ensemble import RandomForestRegressor\n",
        "from sklearn.ensemble import StackingRegressor"
      ],
      "execution_count": 0,
      "outputs": []
    },
    {
      "cell_type": "code",
      "metadata": {
        "id": "vElRZvogaltS",
        "colab_type": "code",
        "colab": {}
      },
      "source": [
        "import numpy as np\n",
        "from sklearn.model_selection import cross_validate, cross_val_predict\n",
        "from sklearn.linear_model import Ridge\n",
        "\n",
        "#Short term and long term memorability score \n",
        "Y_Stack = labels[['short-term_memorability']].values\n",
        "X_Stack = captions"
      ],
      "execution_count": 0,
      "outputs": []
    },
    {
      "cell_type": "code",
      "metadata": {
        "id": "LBqzoBdEalp6",
        "colab_type": "code",
        "colab": {}
      },
      "source": [
        "#Splitting dataset into test and train set with 90 : 10 ratio\n",
        "X_train, X_test, Y_train, Y_test = train_test_split(X_Stack,Y_Stack, test_size=0.10, random_state=42)"
      ],
      "execution_count": 0,
      "outputs": []
    },
    {
      "cell_type": "code",
      "metadata": {
        "id": "KeV075t0XdKI",
        "colab_type": "code",
        "outputId": "4f5fa025-c82f-48e0-dc70-19f4368ac79c",
        "colab": {
          "base_uri": "https://localhost:8080/",
          "height": 111
        }
      },
      "source": [
        "from sklearn.svm import SVR\n",
        "from sklearn.tree import DecisionTreeRegressor\n",
        "from sklearn.linear_model import LinearRegression\n",
        "\n",
        "estimators = [\n",
        "    ('regr', DecisionTreeRegressor(max_depth=10)),\n",
        "    ('svr', SVR(C=100)),\n",
        "    ('Lr',LinearRegression())\n",
        "]\n",
        "reg = StackingRegressor(\n",
        "    estimators=estimators,\n",
        "    final_estimator=Ridge(alpha=45)\n",
        ")\n",
        "\n",
        "model = reg.fit(X_train,Y_train)"
      ],
      "execution_count": 0,
      "outputs": [
        {
          "output_type": "stream",
          "text": [
            "/usr/local/lib/python3.6/dist-packages/sklearn/ensemble/_stacking.py:642: DataConversionWarning: A column-vector y was passed when a 1d array was expected. Please change the shape of y to (n_samples, ), for example using ravel().\n",
            "  y = column_or_1d(y, warn=True)\n",
            "/usr/local/lib/python3.6/dist-packages/sklearn/linear_model/_ridge.py:148: LinAlgWarning: Ill-conditioned matrix (rcond=8.90849e-25): result may not be accurate.\n",
            "  overwrite_a=True).T\n"
          ],
          "name": "stderr"
        }
      ]
    },
    {
      "cell_type": "code",
      "metadata": {
        "id": "fnxob0mMa7jS",
        "colab_type": "code",
        "colab": {}
      },
      "source": [
        "StackPredictions = model.predict(X_test)"
      ],
      "execution_count": 0,
      "outputs": []
    },
    {
      "cell_type": "code",
      "metadata": {
        "id": "vYWoageEh0m4",
        "colab_type": "code",
        "outputId": "9de84a6a-251b-4fc6-c692-58a51301dcb0",
        "colab": {
          "base_uri": "https://localhost:8080/",
          "height": 35
        }
      },
      "source": [
        "X_test.shape,Y_test.shape,StackPredictions.shape"
      ],
      "execution_count": 0,
      "outputs": [
        {
          "output_type": "execute_result",
          "data": {
            "text/plain": [
              "((600, 5098), (600, 1), (600,))"
            ]
          },
          "metadata": {
            "tags": []
          },
          "execution_count": 93
        }
      ]
    },
    {
      "cell_type": "code",
      "metadata": {
        "id": "s3B4fqyiarPJ",
        "colab_type": "code",
        "outputId": "05b38fdf-879e-4bdd-e88f-7c1f0dcc107f",
        "colab": {
          "base_uri": "https://localhost:8080/",
          "height": 35
        }
      },
      "source": [
        "Get_score(StackPredictions, Y_test)"
      ],
      "execution_count": 0,
      "outputs": [
        {
          "output_type": "stream",
          "text": [
            "The Spearman's correlation coefficient is: 0.461\n"
          ],
          "name": "stdout"
        }
      ]
    },
    {
      "cell_type": "markdown",
      "metadata": {
        "id": "9deb-p1aidxu",
        "colab_type": "text"
      },
      "source": [
        "#### Long Term Memorability Score"
      ]
    },
    {
      "cell_type": "code",
      "metadata": {
        "id": "VT6zEx2hfMCv",
        "colab_type": "code",
        "colab": {}
      },
      "source": [
        "from sklearn.linear_model import RidgeCV\n",
        "from sklearn.svm import LinearSVR\n",
        "from sklearn.ensemble import RandomForestRegressor\n",
        "from sklearn.ensemble import StackingRegressor"
      ],
      "execution_count": 0,
      "outputs": []
    },
    {
      "cell_type": "code",
      "metadata": {
        "id": "f3lXLuuBiiuL",
        "colab_type": "code",
        "colab": {}
      },
      "source": [
        "import numpy as np\n",
        "from sklearn.model_selection import cross_validate, cross_val_predict\n",
        "\n",
        "#long term memorability score \n",
        "Y_Stack = labels[['long-term_memorability']].values\n",
        "X_Stack = np.concatenate((captions,feature2), axis=1)"
      ],
      "execution_count": 0,
      "outputs": []
    },
    {
      "cell_type": "code",
      "metadata": {
        "id": "hPaXQ-vFinI6",
        "colab_type": "code",
        "colab": {}
      },
      "source": [
        "#Splitting dataset into test and train set with 90:10 ratio\n",
        "X_train, X_test, Y_train, Y_test = train_test_split(X_Stack,Y_Stack, test_size=0.10, random_state=42)"
      ],
      "execution_count": 0,
      "outputs": []
    },
    {
      "cell_type": "code",
      "metadata": {
        "id": "gc6CVKypixWm",
        "colab_type": "code",
        "outputId": "42b184f3-4375-4f91-fbf2-a35c9a262a07",
        "colab": {
          "base_uri": "https://localhost:8080/",
          "height": 111
        }
      },
      "source": [
        "from sklearn.svm import SVR\n",
        "from sklearn.tree import DecisionTreeRegressor\n",
        "from sklearn.linear_model import LinearRegression\n",
        "\n",
        "estimators = [\n",
        "    ('regr', DecisionTreeRegressor(max_depth=10)),\n",
        "    ('svr', SVR(C=100)),\n",
        "    ('Lr',LinearRegression())\n",
        "]\n",
        "reg = StackingRegressor(\n",
        "    estimators=estimators,\n",
        "    final_estimator=Ridge(alpha=45)\n",
        ")\n",
        "\n",
        "model = reg.fit(X_train,Y_train)"
      ],
      "execution_count": 0,
      "outputs": [
        {
          "output_type": "stream",
          "text": [
            "/usr/local/lib/python3.6/dist-packages/sklearn/ensemble/_stacking.py:642: DataConversionWarning: A column-vector y was passed when a 1d array was expected. Please change the shape of y to (n_samples, ), for example using ravel().\n",
            "  y = column_or_1d(y, warn=True)\n",
            "/usr/local/lib/python3.6/dist-packages/sklearn/linear_model/_ridge.py:148: LinAlgWarning: Ill-conditioned matrix (rcond=6.53418e-23): result may not be accurate.\n",
            "  overwrite_a=True).T\n"
          ],
          "name": "stderr"
        }
      ]
    },
    {
      "cell_type": "code",
      "metadata": {
        "id": "tStOEbuQi4lz",
        "colab_type": "code",
        "colab": {}
      },
      "source": [
        "StackPredictions = model.predict(X_test)"
      ],
      "execution_count": 0,
      "outputs": []
    },
    {
      "cell_type": "code",
      "metadata": {
        "id": "_05ES5eXjIN5",
        "colab_type": "code",
        "outputId": "3728d079-ad71-497a-d1e0-c29a70d43629",
        "colab": {
          "base_uri": "https://localhost:8080/",
          "height": 35
        }
      },
      "source": [
        "X_test.shape,Y_test.shape,StackPredictions.shape"
      ],
      "execution_count": 0,
      "outputs": [
        {
          "output_type": "execute_result",
          "data": {
            "text/plain": [
              "((600, 11173), (600, 1), (600,))"
            ]
          },
          "metadata": {
            "tags": []
          },
          "execution_count": 100
        }
      ]
    },
    {
      "cell_type": "code",
      "metadata": {
        "id": "hnIkve9KjLLf",
        "colab_type": "code",
        "outputId": "6ae97817-d804-433e-8f3a-74de479e9e3c",
        "colab": {
          "base_uri": "https://localhost:8080/",
          "height": 35
        }
      },
      "source": [
        "Get_score(StackPredictions, Y_test)"
      ],
      "execution_count": 0,
      "outputs": [
        {
          "output_type": "stream",
          "text": [
            "The Spearman's correlation coefficient is: 0.179\n"
          ],
          "name": "stdout"
        }
      ]
    },
    {
      "cell_type": "markdown",
      "metadata": {
        "id": "QWW3mw-N7pu6",
        "colab_type": "text"
      },
      "source": [
        "# Test Set Ground Truth Prediction\n",
        "\n",
        "\n",
        "> We got the best Spearman Coefficient value using Rigid Regression with all the 3 features combined\n",
        "\n",
        "\n",
        "*   Short Term Memorability Score : 0.488\n",
        "*   Long Term Memorability Score : 0.203\n",
        "\n",
        "\n",
        "\n"
      ]
    },
    {
      "cell_type": "markdown",
      "metadata": {
        "id": "KcvGWPEz9OMU",
        "colab_type": "text"
      },
      "source": [
        "#### Declaring Source Paths And Variables"
      ]
    },
    {
      "cell_type": "code",
      "metadata": {
        "id": "kLPJaF4U8BA_",
        "colab_type": "code",
        "colab": {}
      },
      "source": [
        "# load the test set version of captions\n",
        "cap_path = './Test-set/Captions_test/test-set-1_video-captions.txt'\n",
        "df_cap_test=read_caps(cap_path)\n",
        "\n",
        "label_path = './Test-set/Ground-truth_test/ground_truth_template.csv'\n",
        "labels_test=pd.read_csv(label_path)\n",
        "\n",
        "#Overwriting the Feat_Path to test dataset location\n",
        "Feat_path = '/content/drive/My Drive/CA684_Assignment/Test-set/'"
      ],
      "execution_count": 0,
      "outputs": []
    },
    {
      "cell_type": "code",
      "metadata": {
        "id": "z6maWjCe_UlA",
        "colab_type": "code",
        "colab": {}
      },
      "source": [
        "#Overwriting the functions for getting dataset name and full path since directory is named feature_test\n",
        "def getnames(featurename):\n",
        "  vnames = os.listdir(Feat_path+featurename+'_test')\n",
        "  return vnames\n",
        "\n",
        "def getpaths(featurename):\n",
        "  fpath = [Feat_path+featurename+'_test/' + x for x in  getnames(featurename)]\n",
        "  sorted = natsorted(fpath,alg=ns.IGNORECASE)\n",
        "  print('Feature Path:')\n",
        "  print(sorted[:5])\n",
        "  return sorted"
      ],
      "execution_count": 0,
      "outputs": []
    },
    {
      "cell_type": "markdown",
      "metadata": {
        "id": "oTUb_jkEs6PT",
        "colab_type": "text"
      },
      "source": [
        "#### Cleaning / processing\n",
        "> All processing is done in one cell to make it compact as detailed version is show in the above RCNN section \n",
        "\n"
      ]
    },
    {
      "cell_type": "code",
      "metadata": {
        "id": "1Hqayc1T0oWS",
        "colab_type": "code",
        "colab": {}
      },
      "source": [
        "df = df_cap_test.copy()\n",
        "def strip_character(dataCol):\n",
        "    r = re.compile(r'[^a-zA-Z]')\n",
        "    return r.sub(' ', str(dataCol))\n",
        "\n",
        "df['caption'] = df['caption'].apply(strip_character)\n",
        "\n",
        "stop = stopwords.words('english') \n",
        "df['caption'] = df['caption'].apply(lambda x: ' '.join([item for item in x.split() if item not in stop]))\n",
        "df['caption'] = [''.join([WordNetLemmatizer().lemmatize(re.sub('[^A-Za-z]',' ',text)) for text in lis]) for lis in df['caption']]\n",
        "df_combined = df_cap.append(df_cap_test,ignore_index = True)\n",
        "\n",
        "counts = Counter()\n",
        "for i, cap in enumerate(df_combined['caption']):\n",
        "    counts.update(cap.split())\n",
        "\n",
        "vect = TfidfVectorizer(ngram_range = (1,4)).fit(df_combined.caption)\n",
        "\n",
        "vect_transformed_X_train = vect.transform(df_combined.caption)\n",
        "len_token = len(vect.get_feature_names())\n",
        "\n",
        "len_token = len(counts)\n",
        "tokenizer = Tokenizer(num_words=len_token)\n",
        "\n",
        "tokenizer.fit_on_texts(list(vect.get_feature_names()))\n",
        "\n",
        "captions_test = tokenizer.texts_to_matrix(list(df_combined.caption.values),mode='binary')"
      ],
      "execution_count": 0,
      "outputs": []
    },
    {
      "cell_type": "code",
      "metadata": {
        "id": "V_XBQpPV0oTY",
        "colab_type": "code",
        "outputId": "65c1b993-3185-4007-cc76-b66837065dcd",
        "colab": {
          "base_uri": "https://localhost:8080/",
          "height": 35
        }
      },
      "source": [
        "print(len(captions_test))"
      ],
      "execution_count": 0,
      "outputs": [
        {
          "output_type": "stream",
          "text": [
            "8000\n"
          ],
          "name": "stdout"
        }
      ]
    },
    {
      "cell_type": "markdown",
      "metadata": {
        "id": "l-kNMPS1_0Da",
        "colab_type": "text"
      },
      "source": [
        "#### Loading 2000 C3D and HMP data point features from test set"
      ]
    },
    {
      "cell_type": "code",
      "metadata": {
        "id": "w47GWE4W_ZoF",
        "colab_type": "code",
        "outputId": "9686dd14-d018-4cb5-f34c-2769764ca577",
        "colab": {
          "base_uri": "https://localhost:8080/",
          "height": 111
        }
      },
      "source": [
        "#Loading 2000 test set of C3D\n",
        "f1_test = df_C3D()"
      ],
      "execution_count": 0,
      "outputs": [
        {
          "output_type": "stream",
          "text": [
            "Feature Path:\n",
            "['/content/drive/My Drive/CA684_Assignment/Test-set/C3D_test/video7494.txt', '/content/drive/My Drive/CA684_Assignment/Test-set/C3D_test/video7495.txt', '/content/drive/My Drive/CA684_Assignment/Test-set/C3D_test/video7496.txt', '/content/drive/My Drive/CA684_Assignment/Test-set/C3D_test/video7497.txt', '/content/drive/My Drive/CA684_Assignment/Test-set/C3D_test/video7498.txt']\n",
            "Loading C3D\n",
            "done\n"
          ],
          "name": "stdout"
        }
      ]
    },
    {
      "cell_type": "code",
      "metadata": {
        "id": "8aFpN67v_c-K",
        "colab_type": "code",
        "outputId": "daecba66-b285-44f0-b384-1781ba28dda2",
        "colab": {
          "base_uri": "https://localhost:8080/",
          "height": 111
        }
      },
      "source": [
        "#Loading 2000 test set of HMP\n",
        "f2_test = df_HMP()"
      ],
      "execution_count": 0,
      "outputs": [
        {
          "output_type": "stream",
          "text": [
            "Feature Path:\n",
            "['/content/drive/My Drive/CA684_Assignment/Test-set/HMP_test/video7494.txt', '/content/drive/My Drive/CA684_Assignment/Test-set/HMP_test/video7495.txt', '/content/drive/My Drive/CA684_Assignment/Test-set/HMP_test/video7496.txt', '/content/drive/My Drive/CA684_Assignment/Test-set/HMP_test/video7497.txt', '/content/drive/My Drive/CA684_Assignment/Test-set/HMP_test/video7498.txt']\n",
            "Loading HMP\n",
            "done\n"
          ],
          "name": "stdout"
        }
      ]
    },
    {
      "cell_type": "code",
      "metadata": {
        "id": "jpZutLKq_fHh",
        "colab_type": "code",
        "outputId": "aa207e9e-9663-4622-d3ca-689138799e59",
        "colab": {
          "base_uri": "https://localhost:8080/",
          "height": 35
        }
      },
      "source": [
        "print(len(f1_test),len(f2_test))"
      ],
      "execution_count": 0,
      "outputs": [
        {
          "output_type": "stream",
          "text": [
            "2000 2000\n"
          ],
          "name": "stdout"
        }
      ]
    },
    {
      "cell_type": "markdown",
      "metadata": {
        "id": "SuH0Ki10tqdq",
        "colab_type": "text"
      },
      "source": [
        "#### Rigid Linear Regression\n",
        "> *    Training the model on 6000 data points present in the Dev-set\n",
        "> *    Predicting the Short-Term and Long-Term Memorabilty score on 2000 data points present in Test-set"
      ]
    },
    {
      "cell_type": "code",
      "metadata": {
        "id": "puZZHgZDRQ0B",
        "colab_type": "code",
        "colab": {}
      },
      "source": [
        "from sklearn.linear_model import Ridge"
      ],
      "execution_count": 0,
      "outputs": []
    },
    {
      "cell_type": "code",
      "metadata": {
        "id": "G9pNAUYDriK5",
        "colab_type": "code",
        "colab": {}
      },
      "source": [
        "X_train = np.concatenate((captions_test[:6000],feature1,feature2), axis=1)\n",
        "X_test = np.concatenate((captions_test[6000:8000],f1_test,f2_test), axis=1)\n",
        "Y_train = labels[['short-term_memorability','long-term_memorability']].values\n",
        "Y_test = []"
      ],
      "execution_count": 0,
      "outputs": []
    },
    {
      "cell_type": "code",
      "metadata": {
        "id": "Kwat9GIiQziZ",
        "colab_type": "code",
        "outputId": "e05fd6de-b38e-4f50-f54f-ea11093d318a",
        "colab": {
          "base_uri": "https://localhost:8080/",
          "height": 35
        }
      },
      "source": [
        "print(len(X_train),len(Y_train),len(X_test))"
      ],
      "execution_count": 0,
      "outputs": [
        {
          "output_type": "stream",
          "text": [
            "6000 6000 2000\n"
          ],
          "name": "stdout"
        }
      ]
    },
    {
      "cell_type": "code",
      "metadata": {
        "id": "ynYeM22MrkaR",
        "colab_type": "code",
        "colab": {}
      },
      "source": [
        "clf = Ridge()\n",
        "clf.set_params(alpha=45)\n",
        "model = clf.fit(X_train, Y_train)"
      ],
      "execution_count": 0,
      "outputs": []
    },
    {
      "cell_type": "code",
      "metadata": {
        "id": "gTX9w0UIrl65",
        "colab_type": "code",
        "colab": {}
      },
      "source": [
        "predictionsRR_test = model.predict(X_test)"
      ],
      "execution_count": 0,
      "outputs": []
    },
    {
      "cell_type": "code",
      "metadata": {
        "id": "RQYyRHozrq7k",
        "colab_type": "code",
        "outputId": "f361e199-d25d-46ae-e3ce-551f41a3fc6c",
        "colab": {
          "base_uri": "https://localhost:8080/",
          "height": 146
        }
      },
      "source": [
        "print(predictionsRR_test)"
      ],
      "execution_count": 0,
      "outputs": [
        {
          "output_type": "stream",
          "text": [
            "[[0.83155629 0.75244391]\n",
            " [0.76058739 0.72818616]\n",
            " [0.92157398 0.82433218]\n",
            " ...\n",
            " [0.87830783 0.77364832]\n",
            " [0.86657811 0.79420367]\n",
            " [0.91854426 0.82374575]]\n"
          ],
          "name": "stdout"
        }
      ]
    },
    {
      "cell_type": "markdown",
      "metadata": {
        "id": "hMcq-QANBj_2",
        "colab_type": "text"
      },
      "source": [
        "#### Saving Predictions to a file\n",
        "\n",
        "> Creating a panda dataframe to write to a csv **file**\n",
        "\n"
      ]
    },
    {
      "cell_type": "code",
      "metadata": {
        "id": "zUMbBaMur8XW",
        "colab_type": "code",
        "colab": {}
      },
      "source": [
        "Features = pd.DataFrame({'video': natsorted(labels_test['video']),\n",
        "                    'short-term_memorability': [row[0] for row in predictionsRR_test],\n",
        "                    'long-term_memorability':[row[1] for row in predictionsRR_test]\n",
        "                        })"
      ],
      "execution_count": 0,
      "outputs": []
    },
    {
      "cell_type": "code",
      "metadata": {
        "id": "pHIHH1zsRaI0",
        "colab_type": "code",
        "outputId": "abf9c2cc-086b-40dd-c96b-7255db50035d",
        "colab": {
          "base_uri": "https://localhost:8080/",
          "height": 206
        }
      },
      "source": [
        "Features.head()"
      ],
      "execution_count": 0,
      "outputs": [
        {
          "output_type": "execute_result",
          "data": {
            "text/html": [
              "<div>\n",
              "<style scoped>\n",
              "    .dataframe tbody tr th:only-of-type {\n",
              "        vertical-align: middle;\n",
              "    }\n",
              "\n",
              "    .dataframe tbody tr th {\n",
              "        vertical-align: top;\n",
              "    }\n",
              "\n",
              "    .dataframe thead th {\n",
              "        text-align: right;\n",
              "    }\n",
              "</style>\n",
              "<table border=\"1\" class=\"dataframe\">\n",
              "  <thead>\n",
              "    <tr style=\"text-align: right;\">\n",
              "      <th></th>\n",
              "      <th>video</th>\n",
              "      <th>short-term_memorability</th>\n",
              "      <th>long-term_memorability</th>\n",
              "    </tr>\n",
              "  </thead>\n",
              "  <tbody>\n",
              "    <tr>\n",
              "      <th>0</th>\n",
              "      <td>7494</td>\n",
              "      <td>0.831556</td>\n",
              "      <td>0.752444</td>\n",
              "    </tr>\n",
              "    <tr>\n",
              "      <th>1</th>\n",
              "      <td>7495</td>\n",
              "      <td>0.760587</td>\n",
              "      <td>0.728186</td>\n",
              "    </tr>\n",
              "    <tr>\n",
              "      <th>2</th>\n",
              "      <td>7496</td>\n",
              "      <td>0.921574</td>\n",
              "      <td>0.824332</td>\n",
              "    </tr>\n",
              "    <tr>\n",
              "      <th>3</th>\n",
              "      <td>7497</td>\n",
              "      <td>0.880603</td>\n",
              "      <td>0.787601</td>\n",
              "    </tr>\n",
              "    <tr>\n",
              "      <th>4</th>\n",
              "      <td>7498</td>\n",
              "      <td>0.856447</td>\n",
              "      <td>0.758108</td>\n",
              "    </tr>\n",
              "  </tbody>\n",
              "</table>\n",
              "</div>"
            ],
            "text/plain": [
              "   video  short-term_memorability  long-term_memorability\n",
              "0   7494                 0.831556                0.752444\n",
              "1   7495                 0.760587                0.728186\n",
              "2   7496                 0.921574                0.824332\n",
              "3   7497                 0.880603                0.787601\n",
              "4   7498                 0.856447                0.758108"
            ]
          },
          "metadata": {
            "tags": []
          },
          "execution_count": 48
        }
      ]
    },
    {
      "cell_type": "code",
      "metadata": {
        "id": "QnEO26ZusOrc",
        "colab_type": "code",
        "colab": {}
      },
      "source": [
        "Features.to_csv('/content/drive/My Drive/predictions/test_predictions.csv')"
      ],
      "execution_count": 0,
      "outputs": []
    },
    {
      "cell_type": "markdown",
      "metadata": {
        "id": "oiN-trIxWryM",
        "colab_type": "text"
      },
      "source": [
        "# References\n",
        "\n",
        "* https://pypi.org/project/PyPrind/\n",
        "* https://en.wikipedia.org/wiki/Keras\n",
        "* https://www.tensorflow.org/\n",
        "* https://en.wikipedia.org/wiki/Spearman%27s_rank_correlation_coefficient\n",
        "* https://github.com/dazcona/memorability\n",
        "\n"
      ]
    }
  ]
}